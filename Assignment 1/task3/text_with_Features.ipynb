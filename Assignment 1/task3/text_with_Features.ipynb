{
 "cells": [
  {
   "cell_type": "code",
   "execution_count": 27,
   "metadata": {},
   "outputs": [],
   "source": [
    "from sklearn.feature_extraction.text import CountVectorizer\n",
    "from sklearn.metrics import accuracy_score, classification_report\n",
    "from sklearn.metrics import confusion_matrix, ConfusionMatrixDisplay\n",
    "from sklearn.feature_selection import SelectKBest, mutual_info_classif\n",
    "from sklearn.tree import DecisionTreeClassifier\n",
    "from sklearn.preprocessing import LabelEncoder\n",
    "from sklearn.pipeline import Pipeline\n",
    "from nltk.corpus import stopwords\n",
    "import matplotlib.pyplot as plt\n",
    "from nltk.corpus import stopwords\n",
    "\n",
    "import pandas as pd\n",
    "import numpy as np"
   ]
  },
  {
   "cell_type": "code",
   "execution_count": 28,
   "metadata": {},
   "outputs": [],
   "source": [
    "train_df = pd.read_csv('../task2/preprocessed_train.csv')\n",
    "test_df = pd.read_csv('../task2/preprocessed_test.csv')"
   ]
  },
  {
   "cell_type": "code",
   "execution_count": 29,
   "metadata": {},
   "outputs": [
    {
     "data": {
      "text/plain": [
       "(                                                 review  sentiment\n",
       " 0     One of the other reviewer ha mentioned that af...          1\n",
       " 1     A wonderful little production . The filming te...          1\n",
       " 2     I thought this wa a wonderful way to spend tim...          1\n",
       " 3     Basically there 's a family where a little boy...          0\n",
       " 4     Petter Mattei 's `` Love in the Time of Money ...          1\n",
       " ...                                                 ...        ...\n",
       " 1995  Feeling Minnesota , directed by Steven Baigelm...          0\n",
       " 1996  THE CELL ( 2000 ) Rating : 8/10 The Cell , lik...          1\n",
       " 1997  This movie , despite it list of B , C , and D ...          0\n",
       " 1998  I loved this movie ! It wa all I could do not ...          1\n",
       " 1999  This wa the worst movie I have ever seen Billy...          0\n",
       " \n",
       " [2000 rows x 2 columns],\n",
       "                                                 review  sentiment\n",
       " 0    Stranded in Space ( 1972 ) MST3K version - a v...          0\n",
       " 1    - After their son are sentenced to life in pri...          1\n",
       " 2    I love playing football and I thought this mov...          1\n",
       " 3    This Showtime cable film feature a talented ca...          1\n",
       " 4    This is a film i decided to go and see because...          1\n",
       " ..                                                 ...        ...\n",
       " 495  Another great movie by Costa-Gavras . It 's a ...          0\n",
       " 496  Though structured totally different from the b...          1\n",
       " 497  Handsome and dashing British airline pilot Geo...          1\n",
       " 498  This film breech the fine line between satire ...          0\n",
       " 499  Mardi Gras : Made in China provides a wonderfu...          1\n",
       " \n",
       " [500 rows x 2 columns])"
      ]
     },
     "execution_count": 29,
     "metadata": {},
     "output_type": "execute_result"
    }
   ],
   "source": [
    "train_df,test_df"
   ]
  },
  {
   "attachments": {},
   "cell_type": "markdown",
   "metadata": {},
   "source": [
    "                                                    Labeling Target Vector"
   ]
  },
  {
   "cell_type": "code",
   "execution_count": 30,
   "metadata": {},
   "outputs": [],
   "source": [
    "le = LabelEncoder()"
   ]
  },
  {
   "cell_type": "code",
   "execution_count": 31,
   "metadata": {},
   "outputs": [],
   "source": [
    "train_df['sentiment'] = le.fit_transform(train_df['sentiment'])\n",
    "test_df['sentiment'] = le.fit_transform(test_df['sentiment'])"
   ]
  },
  {
   "cell_type": "code",
   "execution_count": 32,
   "metadata": {},
   "outputs": [
    {
     "data": {
      "text/plain": [
       "(0       1\n",
       " 1       1\n",
       " 2       1\n",
       " 3       0\n",
       " 4       1\n",
       "        ..\n",
       " 1995    0\n",
       " 1996    1\n",
       " 1997    0\n",
       " 1998    1\n",
       " 1999    0\n",
       " Name: sentiment, Length: 2000, dtype: int64,\n",
       " 0      0\n",
       " 1      1\n",
       " 2      1\n",
       " 3      1\n",
       " 4      1\n",
       "       ..\n",
       " 495    0\n",
       " 496    1\n",
       " 497    1\n",
       " 498    0\n",
       " 499    1\n",
       " Name: sentiment, Length: 500, dtype: int64)"
      ]
     },
     "execution_count": 32,
     "metadata": {},
     "output_type": "execute_result"
    }
   ],
   "source": [
    "train_df['sentiment'],test_df['sentiment']"
   ]
  },
  {
   "cell_type": "code",
   "execution_count": 33,
   "metadata": {},
   "outputs": [
    {
     "name": "stdout",
     "output_type": "stream",
     "text": [
      "Train shape:  (2000,)\n"
     ]
    }
   ],
   "source": [
    "#Seperate texts and labels on train set\n",
    "X_train = train_df.drop('sentiment',axis=1).values.flatten()\n",
    "y_train = train_df['sentiment'].values\n",
    "print('Train shape: ',X_train.shape)\n",
    "stop_words = set(stopwords.words('english'))"
   ]
  },
  {
   "cell_type": "code",
   "execution_count": 34,
   "metadata": {},
   "outputs": [
    {
     "name": "stdout",
     "output_type": "stream",
     "text": [
      "Test shape:  (500,)\n"
     ]
    }
   ],
   "source": [
    "#Seperate texts and labels on test set\n",
    "X_test = test_df.drop('sentiment',axis=1).values.flatten()\n",
    "y_test = test_df['sentiment'].values\n",
    "print(\"Test shape: \",X_test.shape)"
   ]
  },
  {
   "cell_type": "code",
   "execution_count": 35,
   "metadata": {},
   "outputs": [],
   "source": [
    "vectorizer = CountVectorizer(binary=True)\n",
    "selector = SelectKBest(mutual_info_classif, k=2000)"
   ]
  },
  {
   "cell_type": "code",
   "execution_count": 36,
   "metadata": {},
   "outputs": [],
   "source": [
    "# This create a pipeline with two steps. \n",
    "# At the first step it will learn the vacabulary and then we get extract important features\n",
    "pipeline = Pipeline([('Vect',vectorizer),('selector', selector)])"
   ]
  },
  {
   "cell_type": "code",
   "execution_count": 37,
   "metadata": {},
   "outputs": [],
   "source": [
    "#This will execute all the fit function in a step wise manner\n",
    "train_vector = pipeline.fit_transform(X_train,y_train)"
   ]
  },
  {
   "cell_type": "code",
   "execution_count": 38,
   "metadata": {},
   "outputs": [],
   "source": [
    "#This will execute only transform function of all those object that have this functions in a step wise manner \n",
    "test_vector = pipeline.transform(X_test)"
   ]
  },
  {
   "cell_type": "code",
   "execution_count": 39,
   "metadata": {},
   "outputs": [
    {
     "data": {
      "text/plain": [
       "((500, 2000), (2000, 2000))"
      ]
     },
     "execution_count": 39,
     "metadata": {},
     "output_type": "execute_result"
    }
   ],
   "source": [
    "test_vector.shape,train_vector.shape"
   ]
  },
  {
   "attachments": {},
   "cell_type": "markdown",
   "metadata": {},
   "source": [
    "<h1 style=' text-align: center;'>Model</h1>"
   ]
  },
  {
   "cell_type": "code",
   "execution_count": 40,
   "metadata": {},
   "outputs": [],
   "source": [
    "model = DecisionTreeClassifier(criterion='entropy',random_state=32)"
   ]
  },
  {
   "cell_type": "code",
   "execution_count": 41,
   "metadata": {},
   "outputs": [
    {
     "data": {
      "text/plain": [
       "DecisionTreeClassifier(criterion='entropy', random_state=32)"
      ]
     },
     "execution_count": 41,
     "metadata": {},
     "output_type": "execute_result"
    }
   ],
   "source": [
    "model.fit(train_vector,y_train)"
   ]
  },
  {
   "cell_type": "code",
   "execution_count": 42,
   "metadata": {},
   "outputs": [],
   "source": [
    "y_pred = model.predict(test_vector)"
   ]
  },
  {
   "cell_type": "code",
   "execution_count": 43,
   "metadata": {},
   "outputs": [
    {
     "name": "stdout",
     "output_type": "stream",
     "text": [
      "Accuracy: 0.7\n",
      "Classwise Classification Report: \n",
      "              precision    recall  f1-score   support\n",
      "\n",
      "           0       0.69      0.69      0.69       239\n",
      "           1       0.71      0.71      0.71       261\n",
      "\n",
      "    accuracy                           0.70       500\n",
      "   macro avg       0.70      0.70      0.70       500\n",
      "weighted avg       0.70      0.70      0.70       500\n",
      "\n",
      "\n",
      "Confusion Matrix: \n"
     ]
    },
    {
     "data": {
      "image/png": "[encoded data removed]",
      "text/plain": [
       "<Figure size 432x288 with 2 Axes>"
      ]
     },
     "metadata": {
      "needs_background": "light"
     },
     "output_type": "display_data"
    }
   ],
   "source": [
    "print(f\"Accuracy: {accuracy_score(y_test, y_pred)}\")\n",
    "print(f\"Classwise Classification Report: \\n{classification_report(y_test, y_pred)}\")\n",
    "con_matrix = confusion_matrix(np.ravel(y_test), y_pred)\n",
    "print(\"\\nConfusion Matrix: \")\n",
    "con_matrix = ConfusionMatrixDisplay(con_matrix)\n",
    "con_matrix.plot()\n",
    "plt.show()"
   ]
  }
 ],
 "metadata": {
  "kernelspec": {
   "display_name": "Python 3",
   "language": "python",
   "name": "python3"
  },
  "language_info": {
   "codemirror_mode": {
    "name": "ipython",
    "version": 3
   },
   "file_extension": ".py",
   "mimetype": "text/x-python",
   "name": "python",
   "nbconvert_exporter": "python",
   "pygments_lexer": "ipython3",
   "version": "3.8.3"
  },
  "orig_nbformat": 4,
  "vscode": {
   "interpreter": {
    "hash": "b081a66ee97bd2b6a16f43955f1d810b7ea816d6eaeb65e157ef9e038445f0c6"
   }
  }
 },
 "nbformat": 4,
 "nbformat_minor": 2
}
