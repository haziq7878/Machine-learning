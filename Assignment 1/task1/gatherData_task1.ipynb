{
 "cells": [
  {
   "cell_type": "code",
   "execution_count": 17,
   "metadata": {},
   "outputs": [],
   "source": [
    "import cv2\n",
    "import os\n",
    "import pandas as pd\n",
    "import numpy as np\n",
    "import pickle as pkl\n"
   ]
  },
  {
   "cell_type": "code",
   "execution_count": 18,
   "metadata": {},
   "outputs": [],
   "source": [
    "folder_path = '../data/'"
   ]
  },
  {
   "cell_type": "code",
   "execution_count": 19,
   "metadata": {},
   "outputs": [],
   "source": [
    "def store_images_path(folder):\n",
    "    df = pd.DataFrame(columns=['Path','Identity','Facial Expression','age'])\n",
    "    for file in os.listdir(folder):\n",
    "        features = file.split('_')\n",
    "        age = 0\n",
    "        if features[0] == 'haziq':\n",
    "            age = 21\n",
    "        else:\n",
    "            age = 26 \n",
    "        df = df.append({'Path':os.path.join(folder,file),'Identity':features[0],'Facial Expression':features[1][0],'age':age},ignore_index=True)\n",
    "    return df"
   ]
  },
  {
   "cell_type": "code",
   "execution_count": 20,
   "metadata": {},
   "outputs": [],
   "source": [
    "df = store_images_path(folder=folder_path)"
   ]
  },
  {
   "cell_type": "code",
   "execution_count": 21,
   "metadata": {},
   "outputs": [
    {
     "data": {
      "text/html": [
       "<div>\n",
       "<style scoped>\n",
       "    .dataframe tbody tr th:only-of-type {\n",
       "        vertical-align: middle;\n",
       "    }\n",
       "\n",
       "    .dataframe tbody tr th {\n",
       "        vertical-align: top;\n",
       "    }\n",
       "\n",
       "    .dataframe thead th {\n",
       "        text-align: right;\n",
       "    }\n",
       "</style>\n",
       "<table border=\"1\" class=\"dataframe\">\n",
       "  <thead>\n",
       "    <tr style=\"text-align: right;\">\n",
       "      <th></th>\n",
       "      <th>Path</th>\n",
       "      <th>Identity</th>\n",
       "      <th>Facial Expression</th>\n",
       "      <th>age</th>\n",
       "    </tr>\n",
       "  </thead>\n",
       "  <tbody>\n",
       "    <tr>\n",
       "      <th>0</th>\n",
       "      <td>../data/haziq_0 (31).jpeg</td>\n",
       "      <td>haziq</td>\n",
       "      <td>0</td>\n",
       "      <td>21</td>\n",
       "    </tr>\n",
       "    <tr>\n",
       "      <th>1</th>\n",
       "      <td>../data/haziq_0 (32).jpeg</td>\n",
       "      <td>haziq</td>\n",
       "      <td>0</td>\n",
       "      <td>21</td>\n",
       "    </tr>\n",
       "    <tr>\n",
       "      <th>2</th>\n",
       "      <td>../data/haziq_0 (33).jpeg</td>\n",
       "      <td>haziq</td>\n",
       "      <td>0</td>\n",
       "      <td>21</td>\n",
       "    </tr>\n",
       "    <tr>\n",
       "      <th>3</th>\n",
       "      <td>../data/haziq_0 (34).jpeg</td>\n",
       "      <td>haziq</td>\n",
       "      <td>0</td>\n",
       "      <td>21</td>\n",
       "    </tr>\n",
       "    <tr>\n",
       "      <th>4</th>\n",
       "      <td>../data/haziq_0 (35).jpeg</td>\n",
       "      <td>haziq</td>\n",
       "      <td>0</td>\n",
       "      <td>21</td>\n",
       "    </tr>\n",
       "    <tr>\n",
       "      <th>...</th>\n",
       "      <td>...</td>\n",
       "      <td>...</td>\n",
       "      <td>...</td>\n",
       "      <td>...</td>\n",
       "    </tr>\n",
       "    <tr>\n",
       "      <th>56</th>\n",
       "      <td>../data/sulaiman_1 (38).jpeg</td>\n",
       "      <td>sulaiman</td>\n",
       "      <td>1</td>\n",
       "      <td>26</td>\n",
       "    </tr>\n",
       "    <tr>\n",
       "      <th>57</th>\n",
       "      <td>../data/sulaiman_1 (39).jpeg</td>\n",
       "      <td>sulaiman</td>\n",
       "      <td>1</td>\n",
       "      <td>26</td>\n",
       "    </tr>\n",
       "    <tr>\n",
       "      <th>58</th>\n",
       "      <td>../data/sulaiman_1 (40).jpeg</td>\n",
       "      <td>sulaiman</td>\n",
       "      <td>1</td>\n",
       "      <td>26</td>\n",
       "    </tr>\n",
       "    <tr>\n",
       "      <th>59</th>\n",
       "      <td>../data/sulaiman_1 (41).jpeg</td>\n",
       "      <td>sulaiman</td>\n",
       "      <td>1</td>\n",
       "      <td>26</td>\n",
       "    </tr>\n",
       "    <tr>\n",
       "      <th>60</th>\n",
       "      <td>../data/sulaiman_1 (42).jpeg</td>\n",
       "      <td>sulaiman</td>\n",
       "      <td>1</td>\n",
       "      <td>26</td>\n",
       "    </tr>\n",
       "  </tbody>\n",
       "</table>\n",
       "<p>61 rows × 4 columns</p>\n",
       "</div>"
      ],
      "text/plain": [
       "                            Path  Identity Facial Expression age\n",
       "0      ../data/haziq_0 (31).jpeg     haziq                 0  21\n",
       "1      ../data/haziq_0 (32).jpeg     haziq                 0  21\n",
       "2      ../data/haziq_0 (33).jpeg     haziq                 0  21\n",
       "3      ../data/haziq_0 (34).jpeg     haziq                 0  21\n",
       "4      ../data/haziq_0 (35).jpeg     haziq                 0  21\n",
       "..                           ...       ...               ...  ..\n",
       "56  ../data/sulaiman_1 (38).jpeg  sulaiman                 1  26\n",
       "57  ../data/sulaiman_1 (39).jpeg  sulaiman                 1  26\n",
       "58  ../data/sulaiman_1 (40).jpeg  sulaiman                 1  26\n",
       "59  ../data/sulaiman_1 (41).jpeg  sulaiman                 1  26\n",
       "60  ../data/sulaiman_1 (42).jpeg  sulaiman                 1  26\n",
       "\n",
       "[61 rows x 4 columns]"
      ]
     },
     "execution_count": 21,
     "metadata": {},
     "output_type": "execute_result"
    }
   ],
   "source": [
    "df"
   ]
  },
  {
   "cell_type": "code",
   "execution_count": 22,
   "metadata": {},
   "outputs": [],
   "source": [
    "df = df.sample(frac = 1)"
   ]
  },
  {
   "cell_type": "code",
   "execution_count": 23,
   "metadata": {},
   "outputs": [],
   "source": [
    "df.to_csv('Data.csv',index=False)"
   ]
  },
  {
   "cell_type": "code",
   "execution_count": 24,
   "metadata": {},
   "outputs": [],
   "source": [
    "def load_image_and_resize_vector(df):\n",
    "    images = []\n",
    "    for path in df['Path']:\n",
    "        img = cv2.imread(path)\n",
    "        resize_image = cv2.resize(img, (224,224))\n",
    "        images.append(resize_image)\n",
    "    return np.array(images)\n",
    "        "
   ]
  },
  {
   "cell_type": "code",
   "execution_count": 25,
   "metadata": {},
   "outputs": [],
   "source": [
    "def Compute_histogram(img):\n",
    "   blue_color = cv2.calcHist([img], [0], None, [256], [0, 256])\n",
    "   red_color = cv2.calcHist([img], [1], None, [256], [0, 256])\n",
    "   green_color = cv2.calcHist([img], [2], None, [256], [0, 256])\n",
    "   list = blue_color.flatten() \n",
    "   list = np.concatenate((list, red_color.flatten()))\n",
    "   list = np.concatenate((list, green_color.flatten()))\n",
    "   \n",
    "   return list\n"
   ]
  },
  {
   "cell_type": "code",
   "execution_count": 26,
   "metadata": {},
   "outputs": [],
   "source": [
    "def Compute_3x3_vector(img):\n",
    "    height,width = img.shape[0],img.shape[1]\n",
    "    row1 = round(height/3)\n",
    "    row2 = round(height*2/3)\n",
    "    row3 = height-row2\n",
    "    col1 = round(width/3)\n",
    "    col2 = round(width*2/3)\n",
    "    col3 = width-col2\n",
    "\n",
    "    img1 = img[:row1,:col1]\n",
    "    feature_vector = Compute_histogram(img1)\n",
    "    img12 = img[:row1,col1:col2]\n",
    "    feature_vector = np.concatenate((feature_vector, Compute_histogram(img12)))\n",
    "    img13 = img[:row1,col2:col3+col2]\n",
    "    feature_vector = np.concatenate((feature_vector, Compute_histogram(img13)))\n",
    "\n",
    "    img2 = img[row1:row2,:col1]\n",
    "    feature_vector = np.concatenate((feature_vector, Compute_histogram(img2)))\n",
    "    img22 = img[row1:row2,col1:col2]\n",
    "    feature_vector = np.concatenate((feature_vector,Compute_histogram(img22)))\n",
    "\n",
    "    img23 = img[row1:row2,col2:col3+col2]\n",
    "    feature_vector = np.concatenate((feature_vector, Compute_histogram(img23)))\n",
    "\n",
    "\n",
    "    img3 = img[row2:row3+row2,:col1]\n",
    "    feature_vector = np.concatenate((feature_vector,   Compute_histogram(img3)))\n",
    "    img32 = img[row2:row3+row2,col1:col2]\n",
    "    feature_vector = np.concatenate((feature_vector, Compute_histogram(img32)))\n",
    "\n",
    "    img33 = img[row2:row3+row2,col2:col3+col2]\n",
    "    feature_vector = np.concatenate((feature_vector, Compute_histogram(img33)))\n",
    "\n",
    "    return feature_vector"
   ]
  },
  {
   "cell_type": "code",
   "execution_count": 27,
   "metadata": {},
   "outputs": [],
   "source": [
    "def Compute_Feature_vector(images):\n",
    "    features = np.array([Compute_3x3_vector(images[0])])\n",
    "    for x in range(1,len(images)):\n",
    "        features = np.append(features, [Compute_3x3_vector(images[x])], axis=0)\n",
    "    print(f'Shape: {features.shape}')\n",
    "    return features\n"
   ]
  },
  {
   "cell_type": "code",
   "execution_count": 28,
   "metadata": {},
   "outputs": [],
   "source": [
    "image_vector = load_image_and_resize_vector(df)"
   ]
  },
  {
   "cell_type": "code",
   "execution_count": 29,
   "metadata": {},
   "outputs": [
    {
     "data": {
      "text/plain": [
       "(61, 224, 224, 3)"
      ]
     },
     "execution_count": 29,
     "metadata": {},
     "output_type": "execute_result"
    }
   ],
   "source": [
    "image_vector.shape"
   ]
  },
  {
   "cell_type": "code",
   "execution_count": 30,
   "metadata": {},
   "outputs": [
    {
     "name": "stdout",
     "output_type": "stream",
     "text": [
      "Shape: (61, 6912)\n"
     ]
    }
   ],
   "source": [
    "feature_matrix = Compute_Feature_vector(image_vector)"
   ]
  },
  {
   "attachments": {},
   "cell_type": "markdown",
   "metadata": {},
   "source": [
    "                                                Pickling the data"
   ]
  },
  {
   "cell_type": "code",
   "execution_count": 31,
   "metadata": {},
   "outputs": [],
   "source": [
    "file_name = 'Compressed_data'\n",
    "\n",
    "with open(file_name, 'wb') as handle:\n",
    "    pkl.dump(feature_matrix, handle, protocol=pkl.HIGHEST_PROTOCOL)"
   ]
  },
  {
   "cell_type": "code",
   "execution_count": 32,
   "metadata": {},
   "outputs": [
    {
     "name": "stdout",
     "output_type": "stream",
     "text": [
      "(61, 6912)\n"
     ]
    }
   ],
   "source": [
    "with open(file_name, 'rb') as handle:\n",
    "    feature_matrix = pkl.load(handle)\n",
    "print(feature_matrix.shape)"
   ]
  }
 ],
 "metadata": {
  "kernelspec": {
   "display_name": "Python 3",
   "language": "python",
   "name": "python3"
  },
  "language_info": {
   "codemirror_mode": {
    "name": "ipython",
    "version": 3
   },
   "file_extension": ".py",
   "mimetype": "text/x-python",
   "name": "python",
   "nbconvert_exporter": "python",
   "pygments_lexer": "ipython3",
   "version": "3.8.3"
  },
  "orig_nbformat": 4,
  "vscode": {
   "interpreter": {
    "hash": "b081a66ee97bd2b6a16f43955f1d810b7ea816d6eaeb65e157ef9e038445f0c6"
   }
  }
 },
 "nbformat": 4,
 "nbformat_minor": 2
}
