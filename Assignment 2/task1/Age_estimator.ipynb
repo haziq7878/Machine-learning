{
 "cells": [
  {
   "cell_type": "code",
   "execution_count": 1,
   "metadata": {},
   "outputs": [],
   "source": [
    "from sklearn.linear_model import LinearRegression\n",
    "from sklearn.model_selection import train_test_split\n",
    "from sklearn.metrics import mean_squared_error as MSE\n",
    "import matplotlib.pyplot as plt\n",
    "import pickle as pkl\n",
    "import pandas as pd\n",
    "import numpy as np\n",
    "import cv2\n",
    "import os\n",
    "import re"
   ]
  },
  {
   "attachments": {},
   "cell_type": "markdown",
   "metadata": {},
   "source": [
    "<h1>Store DataSet</h1>"
   ]
  },
  {
   "cell_type": "code",
   "execution_count": 26,
   "metadata": {},
   "outputs": [],
   "source": [
    "folder = '../UTKFace/'"
   ]
  },
  {
   "cell_type": "code",
   "execution_count": 3,
   "metadata": {},
   "outputs": [],
   "source": [
    "def store_images_path(folder):\n",
    "    df = pd.DataFrame(columns=['Path','Age'])\n",
    "    for file in os.listdir(folder):\n",
    "        features = file.split('_')\n",
    "        df = df.append({'Path':os.path.join(folder,file),'Age':int(features[0])},ignore_index=True)\n",
    "    return df"
   ]
  },
  {
   "cell_type": "code",
   "execution_count": 4,
   "metadata": {},
   "outputs": [],
   "source": [
    "images = store_images_path(folder=folder)"
   ]
  },
  {
   "cell_type": "code",
   "execution_count": 21,
   "metadata": {},
   "outputs": [],
   "source": [
    "images['Age'] = images['Age'].astype('Int64')"
   ]
  },
  {
   "cell_type": "code",
   "execution_count": 25,
   "metadata": {},
   "outputs": [
    {
     "data": {
      "text/html": [
       "<div>\n",
       "<style scoped>\n",
       "    .dataframe tbody tr th:only-of-type {\n",
       "        vertical-align: middle;\n",
       "    }\n",
       "\n",
       "    .dataframe tbody tr th {\n",
       "        vertical-align: top;\n",
       "    }\n",
       "\n",
       "    .dataframe thead th {\n",
       "        text-align: right;\n",
       "    }\n",
       "</style>\n",
       "<table border=\"1\" class=\"dataframe\">\n",
       "  <thead>\n",
       "    <tr style=\"text-align: right;\">\n",
       "      <th></th>\n",
       "      <th>Age</th>\n",
       "    </tr>\n",
       "  </thead>\n",
       "  <tbody>\n",
       "    <tr>\n",
       "      <th>count</th>\n",
       "      <td>23708.000000</td>\n",
       "    </tr>\n",
       "    <tr>\n",
       "      <th>mean</th>\n",
       "      <td>33.303484</td>\n",
       "    </tr>\n",
       "    <tr>\n",
       "      <th>std</th>\n",
       "      <td>19.886112</td>\n",
       "    </tr>\n",
       "    <tr>\n",
       "      <th>min</th>\n",
       "      <td>1.000000</td>\n",
       "    </tr>\n",
       "    <tr>\n",
       "      <th>25%</th>\n",
       "      <td>23.000000</td>\n",
       "    </tr>\n",
       "    <tr>\n",
       "      <th>50%</th>\n",
       "      <td>29.000000</td>\n",
       "    </tr>\n",
       "    <tr>\n",
       "      <th>75%</th>\n",
       "      <td>45.000000</td>\n",
       "    </tr>\n",
       "    <tr>\n",
       "      <th>max</th>\n",
       "      <td>116.000000</td>\n",
       "    </tr>\n",
       "  </tbody>\n",
       "</table>\n",
       "</div>"
      ],
      "text/plain": [
       "                Age\n",
       "count  23708.000000\n",
       "mean      33.303484\n",
       "std       19.886112\n",
       "min        1.000000\n",
       "25%       23.000000\n",
       "50%       29.000000\n",
       "75%       45.000000\n",
       "max      116.000000"
      ]
     },
     "execution_count": 25,
     "metadata": {},
     "output_type": "execute_result"
    }
   ],
   "source": [
    "images.describe()"
   ]
  },
  {
   "cell_type": "code",
   "execution_count": 27,
   "metadata": {},
   "outputs": [],
   "source": [
    "images.to_csv('../Ages.csv',index=False)"
   ]
  },
  {
   "attachments": {},
   "cell_type": "markdown",
   "metadata": {},
   "source": [
    "<h1>Store Feature Matrix</h1>"
   ]
  },
  {
   "cell_type": "code",
   "execution_count": 5,
   "metadata": {},
   "outputs": [],
   "source": [
    "def load_image_and_resize_vector(df):\n",
    "    images = []\n",
    "    for path in df['Path']:\n",
    "        img = cv2.imread(path)\n",
    "        resize_image = cv2.resize(img, (224,224))\n",
    "        images.append(resize_image)\n",
    "    return np.array(images)\n"
   ]
  },
  {
   "cell_type": "code",
   "execution_count": 6,
   "metadata": {},
   "outputs": [],
   "source": [
    "def Compute_histogram(img):\n",
    "   blue_color = cv2.calcHist([img], [0], None, [256], [0, 256])\n",
    "   red_color = cv2.calcHist([img], [1], None, [256], [0, 256])\n",
    "   green_color = cv2.calcHist([img], [2], None, [256], [0, 256])\n",
    "   list = blue_color.flatten() \n",
    "   list = np.concatenate((list, red_color.flatten()))\n",
    "   list = np.concatenate((list, green_color.flatten()))\n",
    "   \n",
    "   return list"
   ]
  },
  {
   "cell_type": "code",
   "execution_count": 31,
   "metadata": {},
   "outputs": [],
   "source": [
    "def Compute_3x3_vector(img):\n",
    "    height,width = img.shape[0],img.shape[1]\n",
    "    row1 = round(height/3)\n",
    "    row2 = round(height*2/3)\n",
    "    row3 = height-row2\n",
    "    col1 = round(width/3)\n",
    "    col2 = round(width*2/3)\n",
    "    col3 = width-col2\n",
    "\n",
    "    img1 = img[:row1,:col1]\n",
    "    feature_vector = Compute_histogram(img1)\n",
    "    img12 = img[:row1,col1:col2]\n",
    "    feature_vector = np.concatenate((feature_vector, Compute_histogram(img12)))\n",
    "    img13 = img[:row1,col2:col3+col2]\n",
    "    feature_vector = np.concatenate((feature_vector, Compute_histogram(img13)))\n",
    "\n",
    "    img2 = img[row1:row2,:col1]\n",
    "    feature_vector = np.concatenate((feature_vector, Compute_histogram(img2)))\n",
    "    img22 = img[row1:row2,col1:col2]\n",
    "    feature_vector = np.concatenate((feature_vector,Compute_histogram(img22)))\n",
    "\n",
    "    img23 = img[row1:row2,col2:col3+col2]\n",
    "    feature_vector = np.concatenate((feature_vector, Compute_histogram(img23)))\n",
    "\n",
    "\n",
    "    img3 = img[row2:row3+row2,:col1]\n",
    "    feature_vector = np.concatenate((feature_vector,   Compute_histogram(img3)))\n",
    "    img32 = img[row2:row3+row2,col1:col2]\n",
    "    feature_vector = np.concatenate((feature_vector, Compute_histogram(img32)))\n",
    "\n",
    "    img33 = img[row2:row3+row2,col2:col3+col2]\n",
    "    feature_vector = np.concatenate((feature_vector, Compute_histogram(img33)))\n",
    "\n",
    "    return feature_vector"
   ]
  },
  {
   "cell_type": "code",
   "execution_count": 32,
   "metadata": {},
   "outputs": [],
   "source": [
    "def Compute_Feature_vector(images):\n",
    "    features = np.array([Compute_3x3_vector(images[0])])\n",
    "    for x in range(1,len(images)):\n",
    "        features = np.append(features, [Compute_3x3_vector(images[x])], axis=0)\n",
    "    print(f'Shape: {features.shape}')\n",
    "    return features\n"
   ]
  },
  {
   "cell_type": "code",
   "execution_count": 33,
   "metadata": {},
   "outputs": [],
   "source": [
    "image_vector = load_image_and_resize_vector(images)"
   ]
  },
  {
   "cell_type": "code",
   "execution_count": 34,
   "metadata": {},
   "outputs": [
    {
     "name": "stdout",
     "output_type": "stream",
     "text": [
      "Shape: (23708, 6912)\n"
     ]
    }
   ],
   "source": [
    "feature_matrix = Compute_Feature_vector(image_vector)"
   ]
  },
  {
   "cell_type": "code",
   "execution_count": 35,
   "metadata": {},
   "outputs": [],
   "source": [
    "file_name = 'Compressed_data_age'\n",
    "\n",
    "with open(file_name, 'wb') as handle:\n",
    "    pkl.dump(feature_matrix, handle, protocol=pkl.HIGHEST_PROTOCOL)"
   ]
  },
  {
   "attachments": {},
   "cell_type": "markdown",
   "metadata": {},
   "source": [
    "<h1>Load Dataset and feature Matrix</h1>"
   ]
  },
  {
   "cell_type": "code",
   "execution_count": 3,
   "metadata": {},
   "outputs": [],
   "source": [
    "# images = pd.read_csv('../Ages.csv')\n",
    "images = pd.read_csv('../../Assignment 1/task1/Data.csv')"
   ]
  },
  {
   "cell_type": "code",
   "execution_count": 4,
   "metadata": {},
   "outputs": [
    {
     "name": "stdout",
     "output_type": "stream",
     "text": [
      "(61, 6912)\n"
     ]
    }
   ],
   "source": [
    "# file_name = '../Compressed_data_age'\n",
    "file_name = '../../Assignment 1/task1/Compressed_data'\n",
    "with open(file_name, 'rb') as handle:\n",
    "    feature_matrix = pkl.load(handle)\n",
    "print(feature_matrix.shape)"
   ]
  },
  {
   "cell_type": "code",
   "execution_count": 7,
   "metadata": {},
   "outputs": [],
   "source": [
    "X_train,X_test,y_train,y_test = train_test_split(feature_matrix,images['age'],test_size=0.2)"
   ]
  },
  {
   "cell_type": "code",
   "execution_count": 8,
   "metadata": {},
   "outputs": [
    {
     "data": {
      "text/plain": [
       "((48, 6912), (13, 6912))"
      ]
     },
     "execution_count": 8,
     "metadata": {},
     "output_type": "execute_result"
    }
   ],
   "source": [
    "X_train.shape,X_test.shape"
   ]
  },
  {
   "cell_type": "code",
   "execution_count": 13,
   "metadata": {},
   "outputs": [],
   "source": [
    "reg = LinearRegression()"
   ]
  },
  {
   "cell_type": "code",
   "execution_count": 14,
   "metadata": {},
   "outputs": [
    {
     "data": {
      "text/plain": [
       "LinearRegression()"
      ]
     },
     "execution_count": 14,
     "metadata": {},
     "output_type": "execute_result"
    }
   ],
   "source": [
    "reg.fit(X_train,y_train)"
   ]
  },
  {
   "cell_type": "code",
   "execution_count": 15,
   "metadata": {},
   "outputs": [],
   "source": [
    "y_pred = reg.predict(X_test)"
   ]
  },
  {
   "cell_type": "code",
   "execution_count": 16,
   "metadata": {},
   "outputs": [],
   "source": [
    "mse = MSE(y_test,y_pred)\n",
    "rmse = np.sqrt(mse) "
   ]
  },
  {
   "cell_type": "code",
   "execution_count": 19,
   "metadata": {},
   "outputs": [],
   "source": [
    "# model_file = 'Linear_Reg_Images_UTKFace.sav'\n",
    "model_file = 'Linear_Reg_Images_my_data.sav'\n",
    "pkl.dump(reg,open(model_file,'wb'))"
   ]
  },
  {
   "cell_type": "code",
   "execution_count": 20,
   "metadata": {},
   "outputs": [],
   "source": [
    "# model_file = 'Linear_Reg_Images_UTKFace.sav'\n",
    "model_file = 'Linear_Reg_Images_my_data.sav'\n",
    "reg = pkl.load(open(model_file,'rb'))"
   ]
  },
  {
   "attachments": {},
   "cell_type": "markdown",
   "metadata": {},
   "source": [
    "<h1 style='text-align:center'>Model evaluation</h1>"
   ]
  },
  {
   "cell_type": "code",
   "execution_count": 21,
   "metadata": {},
   "outputs": [
    {
     "name": "stdout",
     "output_type": "stream",
     "text": [
      "Parameters: {'copy_X': True, 'fit_intercept': True, 'n_jobs': None, 'normalize': False, 'positive': False}\n",
      "Coefficient: [ 4.3520704e-06 -9.0717804e-05 -9.6940319e-05 ...  1.0262223e-05\n",
      " -6.5478576e-05 -1.2445201e-04]\n",
      "Intercept: 23.31202507019043\n",
      "Mean squared error 0.11325364048500958\n",
      "Root mean squared error: 0.33653178228067787\n"
     ]
    }
   ],
   "source": [
    "print(f'Parameters: {reg.get_params()}')\n",
    "print(f'Coefficient: {reg.coef_}')\n",
    "print(f'Intercept: {reg.intercept_}')\n",
    "print(f'Mean squared error {mse}')\n",
    "print(f'Root mean squared error: {rmse}')"
   ]
  },
  {
   "cell_type": "code",
   "execution_count": 31,
   "metadata": {},
   "outputs": [
    {
     "data": {
      "text/plain": [
       "((13,), (13,))"
      ]
     },
     "execution_count": 31,
     "metadata": {},
     "output_type": "execute_result"
    }
   ],
   "source": [
    "X_test_array_index = np.arange(1,X_test.shape[0]+1)\n",
    "X_train_array_index = np.arange(1,X_train.shape[0]+1)\n",
    "X_test_array_index.shape,y_test.shape"
   ]
  },
  {
   "cell_type": "code",
   "execution_count": 33,
   "metadata": {},
   "outputs": [
    {
     "data": {
      "image/png": "[encoded data removed]",
      "text/plain": [
       "<Figure size 432x288 with 1 Axes>"
      ]
     },
     "metadata": {
      "needs_background": "light"
     },
     "output_type": "display_data"
    }
   ],
   "source": [
    "plt.scatter(X_test_array_index,y_test,color='black',label='actual')\n",
    "plt.plot(X_test_array_index,y_pred,color='red',label='predicted')\n",
    "plt.legend()\n",
    "plt.plot()\n",
    "plt.show()"
   ]
  }
 ],
 "metadata": {
  "kernelspec": {
   "display_name": "Python 3",
   "language": "python",
   "name": "python3"
  },
  "language_info": {
   "codemirror_mode": {
    "name": "ipython",
    "version": 3
   },
   "file_extension": ".py",
   "mimetype": "text/x-python",
   "name": "python",
   "nbconvert_exporter": "python",
   "pygments_lexer": "ipython3",
   "version": "3.8.3"
  },
  "orig_nbformat": 4
 },
 "nbformat": 4,
 "nbformat_minor": 2
}
