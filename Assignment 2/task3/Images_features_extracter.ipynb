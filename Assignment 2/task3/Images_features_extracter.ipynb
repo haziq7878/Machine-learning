{
 "cells": [
  {
   "cell_type": "code",
   "execution_count": 1,
   "metadata": {},
   "outputs": [],
   "source": [
    "import matplotlib.pyplot as plt\n",
    "import threading\n",
    "import pickle as pkl\n",
    "import pandas as pd\n",
    "import numpy as np\n",
    "import cv2\n",
    "import os\n",
    "import re"
   ]
  },
  {
   "attachments": {},
   "cell_type": "markdown",
   "metadata": {},
   "source": [
    "<h1 style='text-align:center'>Loading Models</h1>"
   ]
  },
  {
   "cell_type": "code",
   "execution_count": 2,
   "metadata": {},
   "outputs": [],
   "source": [
    "ols_model_file_path = '../task1/Linear_Reg_Images_my_data.sav'\n",
    "sgd_model_file_path = '../task2/SGF_Linear_Reg_Images_my_data.sav'\n",
    "identity_model_file_path = '../../Assignment 1/task3/Decision_model_face_identity.sav'\n",
    "scaler = '../../Assignment 1/task1/scaler.sav'"
   ]
  },
  {
   "cell_type": "code",
   "execution_count": 3,
   "metadata": {},
   "outputs": [],
   "source": [
    "ols_model = pkl.load(open(ols_model_file_path,'rb'))\n",
    "sgd_model = pkl.load(open(sgd_model_file_path,'rb'))\n",
    "identity_model = pkl.load(open(identity_model_file_path,'rb'))\n",
    "scaler = pkl.load(open(scaler,'rb'))"
   ]
  },
  {
   "cell_type": "code",
   "execution_count": 4,
   "metadata": {},
   "outputs": [],
   "source": [
    "models = [ols_model,sgd_model,identity_model]"
   ]
  },
  {
   "cell_type": "code",
   "execution_count": 5,
   "metadata": {},
   "outputs": [
    {
     "data": {
      "text/plain": [
       "LinearRegression()"
      ]
     },
     "execution_count": 5,
     "metadata": {},
     "output_type": "execute_result"
    }
   ],
   "source": [
    "ols_model"
   ]
  },
  {
   "attachments": {},
   "cell_type": "markdown",
   "metadata": {},
   "source": [
    "<h1 style='text-align:center'>Webcam app</h1>"
   ]
  },
  {
   "attachments": {},
   "cell_type": "markdown",
   "metadata": {},
   "source": [
    "<h3 style='text-align:center'>Preprocessing</h3>"
   ]
  },
  {
   "cell_type": "code",
   "execution_count": 6,
   "metadata": {},
   "outputs": [],
   "source": [
    "def App(models):\n",
    "    try:\n",
    "        vidcap = cv2.VideoCapture(0)\n",
    "        font = cv2.FONT_HERSHEY_SIMPLEX\n",
    "        thickness = 2\n",
    "        font_scale = 1\n",
    "        if vidcap.isOpened():\n",
    "            while True:\n",
    "                ret, frame = vidcap.read()\n",
    "                if ret:\n",
    "                    frame_copy = np.array([cv2.resize(frame,(32,32)).flatten()])\n",
    "                    frame_copy = scaler.transform(frame_copy)\n",
    "                    age_ols = round(models[0].predict(frame_copy)[0])\n",
    "                    age_sgd = round(models[1].predict(frame_copy)[0])\n",
    "                    identity = models[2].predict(frame_copy)[0]\n",
    "                    cv2.putText(frame,str(age_ols),(0,440),font,font_scale, (255, 0, 0), thickness, cv2.LINE_AA)\n",
    "                    cv2.putText(frame,str(age_sgd),(520,440),font,font_scale, (0, 255, 0), thickness, cv2.LINE_AA)\n",
    "                    cv2.putText(frame,identity,(500,300),font,font_scale, (0, 0, 255), thickness, cv2.LINE_AA)\n",
    "                    cv2.imshow('Frame', frame)\n",
    "                else:\n",
    "                    print(\"Frame not captured\")\n",
    "                if cv2.waitKey(5) & 0xFF==ord('q'):\n",
    "                    break\n",
    "        else:\n",
    "            print(\"Video is not working\")\n",
    "        vidcap.release()\n",
    "        cv2.destroyAllWindows() \n",
    "    except Exception as e:\n",
    "        print(e)"
   ]
  },
  {
   "cell_type": "code",
   "execution_count": null,
   "metadata": {},
   "outputs": [],
   "source": [
    "App(models)"
   ]
  }
 ],
 "metadata": {
  "kernelspec": {
   "display_name": "Python 3",
   "language": "python",
   "name": "python3"
  },
  "language_info": {
   "codemirror_mode": {
    "name": "ipython",
    "version": 3
   },
   "file_extension": ".py",
   "mimetype": "text/x-python",
   "name": "python",
   "nbconvert_exporter": "python",
   "pygments_lexer": "ipython3",
   "version": "3.8.3"
  },
  "orig_nbformat": 4
 },
 "nbformat": 4,
 "nbformat_minor": 2
}
