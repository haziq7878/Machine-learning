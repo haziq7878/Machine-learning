{
 "cells": [
  {
   "cell_type": "code",
   "execution_count": 37,
   "metadata": {},
   "outputs": [],
   "source": [
    "import matplotlib.pyplot as plt\n",
    "import threading\n",
    "import pickle as pkl\n",
    "import pandas as pd\n",
    "import numpy as np\n",
    "import cv2\n",
    "import os\n",
    "import re"
   ]
  },
  {
   "attachments": {},
   "cell_type": "markdown",
   "metadata": {},
   "source": [
    "<h1 style='text-align:center'>Loading Models</h1>"
   ]
  },
  {
   "cell_type": "code",
   "execution_count": 38,
   "metadata": {},
   "outputs": [],
   "source": [
    "ols_model_file_path = '../task1/Linear_Reg_Images_my_data.sav'\n",
    "sgd_model_file_path = '../task2/SGF_Linear_Reg_Images_my_data.sav'\n",
    "identity_model_file_path = '../../Assignment 1/task3/Decision_model_face_identity.sav'"
   ]
  },
  {
   "cell_type": "code",
   "execution_count": 39,
   "metadata": {},
   "outputs": [],
   "source": [
    "ols_model = pkl.load(open(ols_model_file_path,'rb'))\n",
    "sgd_model = pkl.load(open(sgd_model_file_path,'rb'))\n",
    "identity_model = pkl.load(open(identity_model_file_path,'rb'))"
   ]
  },
  {
   "cell_type": "code",
   "execution_count": 40,
   "metadata": {},
   "outputs": [],
   "source": [
    "models = [ols_model,sgd_model,identity_model]"
   ]
  },
  {
   "attachments": {},
   "cell_type": "markdown",
   "metadata": {},
   "source": [
    "<h1 style='text-align:center'>Webcam app</h1>"
   ]
  },
  {
   "attachments": {},
   "cell_type": "markdown",
   "metadata": {},
   "source": [
    "<h3 style='text-align:center'>Preprocessing</h3>"
   ]
  },
  {
   "cell_type": "code",
   "execution_count": 41,
   "metadata": {},
   "outputs": [],
   "source": [
    "def Compute_histogram(img):\n",
    "   blue_color = cv2.calcHist([img], [0], None, [256], [0, 256])\n",
    "   red_color = cv2.calcHist([img], [1], None, [256], [0, 256])\n",
    "   green_color = cv2.calcHist([img], [2], None, [256], [0, 256])\n",
    "   list = blue_color.flatten() \n",
    "   list = np.concatenate((list, red_color.flatten()))\n",
    "   list = np.concatenate((list, green_color.flatten()))\n",
    "   \n",
    "   return list"
   ]
  },
  {
   "cell_type": "code",
   "execution_count": 42,
   "metadata": {},
   "outputs": [],
   "source": [
    "def Compute_3x3_vector(img):\n",
    "    height,width = img.shape[0],img.shape[1]\n",
    "    row1 = round(height/3)\n",
    "    row2 = round(height*2/3)\n",
    "    row3 = height-row2\n",
    "    col1 = round(width/3)\n",
    "    col2 = round(width*2/3)\n",
    "    col3 = width-col2\n",
    "\n",
    "    img1 = img[:row1,:col1]\n",
    "    feature_vector = Compute_histogram(img1)\n",
    "    img12 = img[:row1,col1:col2]\n",
    "    feature_vector = np.concatenate((feature_vector, Compute_histogram(img12)))\n",
    "    img13 = img[:row1,col2:col3+col2]\n",
    "    feature_vector = np.concatenate((feature_vector, Compute_histogram(img13)))\n",
    "\n",
    "    img2 = img[row1:row2,:col1]\n",
    "    feature_vector = np.concatenate((feature_vector, Compute_histogram(img2)))\n",
    "    img22 = img[row1:row2,col1:col2]\n",
    "    feature_vector = np.concatenate((feature_vector,Compute_histogram(img22)))\n",
    "\n",
    "    img23 = img[row1:row2,col2:col3+col2]\n",
    "    feature_vector = np.concatenate((feature_vector, Compute_histogram(img23)))\n",
    "\n",
    "\n",
    "    img3 = img[row2:row3+row2,:col1]\n",
    "    feature_vector = np.concatenate((feature_vector,   Compute_histogram(img3)))\n",
    "    img32 = img[row2:row3+row2,col1:col2]\n",
    "    feature_vector = np.concatenate((feature_vector, Compute_histogram(img32)))\n",
    "\n",
    "    img33 = img[row2:row3+row2,col2:col3+col2]\n",
    "    feature_vector = np.concatenate((feature_vector, Compute_histogram(img33)))\n",
    "\n",
    "    return feature_vector"
   ]
  },
  {
   "cell_type": "code",
   "execution_count": 43,
   "metadata": {},
   "outputs": [],
   "source": [
    "def Compute_Feature_vector(img):\n",
    "    img = cv2.resize(img, (224,224))\n",
    "    frame = np.array([Compute_3x3_vector(img)])\n",
    "    frame = Compute_Feature_vector(frame)\n",
    "    age_ols = models[0].predict(frame)\n",
    "    age_sgd = models[1].predict(frame)\n",
    "    identity = models[2].predict(frame)\n",
    "    print(age_ols,age_sgd,identity)\n",
    "    cv2.putText(frame,str(age_ols),(0,221),cv2.FONT_HERSHEY_SIMPLEX,1, (255, 0, 0), 2, cv2.LINE_AA)\n",
    "    cv2.putText(frame,str(age_sgd),(0,221),cv2.FONT_HERSHEY_SIMPLEX,1, (0, 255, 0), 2, cv2.LINE_AA)\n",
    "    cv2.putText(frame,str(identity),(0,221),cv2.FONT_HERSHEY_SIMPLEX,1, (0, 0, 255), 2, cv2.LINE_AA)\n",
    "    cv2.imshow('Frame', frame)"
   ]
  },
  {
   "cell_type": "code",
   "execution_count": 44,
   "metadata": {},
   "outputs": [],
   "source": [
    "def App(models):\n",
    "    try:\n",
    "        vidcap = cv2.VideoCapture(0)\n",
    "        font = cv2.FONT_HERSHEY_SIMPLEX\n",
    "        thickness = 2\n",
    "        font_scale = 1\n",
    "        if vidcap.isOpened():\n",
    "            while True:\n",
    "                ret, frame = vidcap.read()\n",
    "                if ret:\n",
    "                    threading.Thread(target=Compute_Feature_vector,args=(frame,)).start()\n",
    "                    cv2.waitKey(0)\n",
    "                    break\n",
    "                    # frame = Compute_Feature_vector(frame)\n",
    "                    # age_ols = models[0].predict(frame)\n",
    "                    # age_sgd = models[1].predict(frame)\n",
    "                    # identity = models[2].predict(frame)\n",
    "                    # print(age_ols)\n",
    "                    # cv2.putText(frame,str(age_ols),(0,221),font,font_scale, (255, 0, 0), thickness, cv2.LINE_AA)\n",
    "                    # cv2.putText(frame,str(age_sgd),(0,221),font,font_scale, (0, 255, 0), thickness, cv2.LINE_AA)\n",
    "                    # cv2.putText(frame,str(identity),(0,221),font,font_scale, (0, 0, 255), thickness, cv2.LINE_AA)\n",
    "                    # cv2.imshow('Frame', frame)\n",
    "                else:\n",
    "                    print(\"Frame not captured\")\n",
    "                if cv2.waitKey(5) & 0xFF==ord('q'):\n",
    "                    break\n",
    "        else:\n",
    "            print(\"Video is not working\")\n",
    "        vidcap.release()\n",
    "        cv2.destroyAllWindows() \n",
    "    except Exception as e:\n",
    "        print(e)"
   ]
  },
  {
   "cell_type": "code",
   "execution_count": 45,
   "metadata": {},
   "outputs": [
    {
     "name": "stderr",
     "output_type": "stream",
     "text": [
      "Exception in thread Thread-996:\n",
      "Traceback (most recent call last):\n",
      "  File \"c:\\Python\\Python38\\lib\\threading.py\", line 932, in _bootstrap_inner\n",
      "    self.run()\n",
      "  File \"c:\\Python\\Python38\\lib\\threading.py\", line 870, in run\n",
      "    self._target(*self._args, **self._kwargs)\n",
      "  File \"C:\\Users\\Hazim\\AppData\\Local\\Temp\\ipykernel_14032\\3571656424.py\", line 4, in Compute_Feature_vector\n",
      "  File \"C:\\Users\\Hazim\\AppData\\Local\\Temp\\ipykernel_14032\\3571656424.py\", line 3, in Compute_Feature_vector\n",
      "  File \"C:\\Users\\Hazim\\AppData\\Local\\Temp\\ipykernel_14032\\3404846930.py\", line 11, in Compute_3x3_vector\n",
      "  File \"C:\\Users\\Hazim\\AppData\\Local\\Temp\\ipykernel_14032\\3294659080.py\", line 3, in Compute_histogram\n",
      "cv2.error: OpenCV(4.6.0) D:\\a\\opencv-python\\opencv-python\\opencv\\modules\\imgproc\\src\\histogram.cpp:160: error: (-215:Assertion failed) j < nimages in function 'cv::histPrepareImages'\n",
      "\n"
     ]
    }
   ],
   "source": [
    "App(models)"
   ]
  }
 ],
 "metadata": {
  "kernelspec": {
   "display_name": "Python 3",
   "language": "python",
   "name": "python3"
  },
  "language_info": {
   "codemirror_mode": {
    "name": "ipython",
    "version": 3
   },
   "file_extension": ".py",
   "mimetype": "text/x-python",
   "name": "python",
   "nbconvert_exporter": "python",
   "pygments_lexer": "ipython3",
   "version": "3.8.3"
  },
  "orig_nbformat": 4
 },
 "nbformat": 4,
 "nbformat_minor": 2
}
