{
 "cells": [
  {
   "cell_type": "code",
   "execution_count": 1,
   "metadata": {},
   "outputs": [],
   "source": [
    "from sklearn.linear_model import SGDRegressor\n",
    "from sklearn.model_selection import train_test_split\n",
    "from sklearn.metrics import mean_squared_error as MSE\n",
    "from sklearn.metrics import r2_score\n",
    "from sklearn.model_selection import GridSearchCV\n",
    "from sklearn.linear_model import RidgeCV,LassoCV,ElasticNetCV\n",
    "import matplotlib.pyplot as plt\n",
    "import pandas as pd\n",
    "import numpy as np\n",
    "import pickle as pkl"
   ]
  },
  {
   "attachments": {},
   "cell_type": "markdown",
   "metadata": {},
   "source": [
    "<h1>Load Dataset and feature Matrix</h1>"
   ]
  },
  {
   "cell_type": "code",
   "execution_count": 20,
   "metadata": {},
   "outputs": [],
   "source": [
    "# images = pd.read_csv('../../Datasets/Assignment 3/Ages.csv')\n",
    "images = pd.read_csv('../../Assignment 1/task1/Data.csv')"
   ]
  },
  {
   "cell_type": "code",
   "execution_count": 21,
   "metadata": {},
   "outputs": [
    {
     "name": "stdout",
     "output_type": "stream",
     "text": [
      "(61, 3072)\n"
     ]
    }
   ],
   "source": [
    "# file_name = '../../Datasets/Assignment 3/Compressed_images/Compressed_data_age_1'\n",
    "file_name = '../../Assignment 1/task1/Compressed_data_1'\n",
    "with open(file_name, 'rb') as handle:\n",
    "    feature_matrix = pkl.load(handle)\n",
    "print(feature_matrix.shape)"
   ]
  },
  {
   "cell_type": "code",
   "execution_count": 23,
   "metadata": {},
   "outputs": [],
   "source": [
    "X_train,X_test,y_train,y_test = train_test_split(feature_matrix,images['age'],test_size=0.2)"
   ]
  },
  {
   "cell_type": "code",
   "execution_count": 24,
   "metadata": {},
   "outputs": [
    {
     "data": {
      "text/plain": [
       "((48, 3072), (13, 3072))"
      ]
     },
     "execution_count": 24,
     "metadata": {},
     "output_type": "execute_result"
    }
   ],
   "source": [
    "X_train.shape,X_test.shape"
   ]
  },
  {
   "cell_type": "code",
   "execution_count": 25,
   "metadata": {},
   "outputs": [],
   "source": [
    "reg = SGDRegressor(random_state=10,early_stopping=True)"
   ]
  },
  {
   "cell_type": "code",
   "execution_count": 35,
   "metadata": {},
   "outputs": [],
   "source": [
    "params = {'alpha':[0.001,0.01,0.1],'penalty':['l2','l1','elasticnet',None],'l1_ratio':[0.1,0.15,0.18],'max_iter':[1000],'loss':['huber']}"
   ]
  },
  {
   "cell_type": "code",
   "execution_count": 36,
   "metadata": {},
   "outputs": [],
   "source": [
    "searcher = GridSearchCV(reg,param_grid=params,cv=10,scoring='r2',n_jobs=-1)"
   ]
  },
  {
   "cell_type": "code",
   "execution_count": 37,
   "metadata": {},
   "outputs": [
    {
     "data": {
      "text/plain": [
       "GridSearchCV(cv=10,\n",
       "             estimator=SGDRegressor(alpha=0.001, early_stopping=True,\n",
       "                                    l1_ratio=0, loss='huber', random_state=10),\n",
       "             n_jobs=-1,\n",
       "             param_grid={'alpha': [0.001, 0.01, 0.1],\n",
       "                         'l1_ratio': [0.1, 0.15, 0.18], 'loss': ['huber'],\n",
       "                         'max_iter': [1000],\n",
       "                         'penalty': ['l2', 'l1', 'elasticnet', None]},\n",
       "             scoring='r2')"
      ]
     },
     "execution_count": 37,
     "metadata": {},
     "output_type": "execute_result"
    }
   ],
   "source": [
    "searcher.fit(X_train,y_train)"
   ]
  },
  {
   "cell_type": "code",
   "execution_count": 45,
   "metadata": {},
   "outputs": [],
   "source": [
    "searcher_rigid = RidgeCV(alphas=[1e-3, 1e-2, 1e-1, 1],cv=5).fit(X_train,y_train)"
   ]
  },
  {
   "cell_type": "code",
   "execution_count": 48,
   "metadata": {},
   "outputs": [],
   "source": [
    "searcher_lasso = LassoCV(alphas=[1e-3, 1e-2, 1e-1, 1],cv=5, max_iter=2000,random_state=32).fit(X_train, y_train)"
   ]
  },
  {
   "cell_type": "code",
   "execution_count": 51,
   "metadata": {},
   "outputs": [
    {
     "name": "stderr",
     "output_type": "stream",
     "text": [
      "c:\\Python\\Python38\\lib\\site-packages\\sklearn\\linear_model\\_coordinate_descent.py:530: ConvergenceWarning: Objective did not converge. You might want to increase the number of iterations. Duality gap: 0.03802621480033362, tolerance: 0.02994791666666667\n",
      "  model = cd_fast.enet_coordinate_descent(\n"
     ]
    }
   ],
   "source": [
    "searcher_elas = ElasticNetCV(alphas=[1e-3, 1e-2, 1e-1, 1],cv=5,max_iter=3000, random_state=32).fit(X_train, y_train)"
   ]
  },
  {
   "cell_type": "code",
   "execution_count": 38,
   "metadata": {},
   "outputs": [
    {
     "name": "stdout",
     "output_type": "stream",
     "text": [
      "{'alpha': 0.001, 'l1_ratio': 0.1, 'loss': 'huber', 'max_iter': 1000, 'penalty': 'l2'}\n"
     ]
    }
   ],
   "source": [
    "# y_pred = searcher.predict(X_test)\n",
    "reg = searcher.best_estimator_\n",
    "print(searcher.best_params_)"
   ]
  },
  {
   "cell_type": "code",
   "execution_count": 52,
   "metadata": {},
   "outputs": [],
   "source": [
    "y_pred_grid = reg.predict(X_test)\n",
    "y_pred_rig = searcher_rigid.predict(X_test)\n",
    "y_pred_lass = searcher_lasso.predict(X_test)\n",
    "y_pred_elas = searcher_elas.predict(X_test)\n"
   ]
  },
  {
   "cell_type": "code",
   "execution_count": 53,
   "metadata": {},
   "outputs": [],
   "source": [
    "mse_test_grid = MSE(y_test,y_pred_grid)\n",
    "r2_test_grid = r2_score(y_test,y_pred_grid)\n",
    "\n",
    "mse_test_rig = MSE(y_test,y_pred_rig)\n",
    "r2_test_rig = r2_score(y_test,y_pred_rig)\n",
    "\n",
    "mse_test_lass = MSE(y_test,y_pred_lass)\n",
    "r2_test_lass = r2_score(y_test,y_pred_lass)\n",
    "\n",
    "mse_test_elas = MSE(y_test,y_pred_elas)\n",
    "r2_test_elas = r2_score(y_test,y_pred_elas)"
   ]
  },
  {
   "cell_type": "code",
   "execution_count": 43,
   "metadata": {},
   "outputs": [],
   "source": [
    "# model_file = 'SGF_Linear_Reg_Images_UTKFace.sav'\n",
    "model_file = 'SGF_Linear_Reg_Images_my_data.sav'\n",
    "pkl.dump(reg,open(model_file,'wb'))"
   ]
  },
  {
   "cell_type": "code",
   "execution_count": 44,
   "metadata": {},
   "outputs": [],
   "source": [
    "# model_file = 'SGF_Linear_Reg_Images_UTKFace.sav'\n",
    "model_file = 'SGF_Linear_Reg_Images_my_data.sav'\n",
    "reg = pkl.load(open(model_file,'rb'))"
   ]
  },
  {
   "attachments": {},
   "cell_type": "markdown",
   "metadata": {},
   "source": [
    "<h1 style='text-align:center'>Model evaluation</h1>"
   ]
  },
  {
   "attachments": {},
   "cell_type": "markdown",
   "metadata": {},
   "source": [
    "Linear Regression \n",
    "<br>\n",
    "Mean squared error 0.5069245345783313\n",
    "<br>\n",
    "Root mean squared error: 0.7119863303310895\n"
   ]
  },
  {
   "cell_type": "code",
   "execution_count": 54,
   "metadata": {},
   "outputs": [
    {
     "name": "stdout",
     "output_type": "stream",
     "text": [
      "Parameters: {'alpha': 0.001, 'average': False, 'early_stopping': True, 'epsilon': 0.1, 'eta0': 0.01, 'fit_intercept': True, 'l1_ratio': 0.1, 'learning_rate': 'invscaling', 'loss': 'huber', 'max_iter': 1000, 'n_iter_no_change': 5, 'penalty': 'l2', 'power_t': 0.25, 'random_state': 10, 'shuffle': True, 'tol': 0.001, 'validation_fraction': 0.1, 'verbose': 0, 'warm_start': False}\n",
      "Coefficient: [0.03361199 0.04068638 0.03755518 ... 0.02035432 0.01855502 0.00662561]\n",
      "Intercept: [0.09529039]\n",
      "Mean squared error test of grid: 1.989315988345754\n",
      "R2 score of grid: 0.6638055979695676\n",
      "Mean squared error test of grid: 0.692535855720997\n",
      "R2 score of grid: 0.8829614403831515\n",
      "Mean squared error test of grid: 0.8471563273318375\n",
      "R2 score of grid: 0.8568305806809194\n",
      "Mean squared error test of grid: 0.6844173365321287\n",
      "R2 score of grid: 0.8843334701260703\n"
     ]
    }
   ],
   "source": [
    "print(f'Parameters: {reg.get_params()}')\n",
    "print(f'Coefficient: {reg.coef_}')\n",
    "print(f'Intercept: {reg.intercept_}')\n",
    "print(f'Mean squared error test of grid: {mse_test_grid}')\n",
    "print(f'R2 score of grid: {r2_test_grid}')\n",
    "print(f'Mean squared error test of grid: {mse_test_rig}')\n",
    "print(f'R2 score of grid: {r2_test_rig}')\n",
    "print(f'Mean squared error test of grid: {mse_test_lass}')\n",
    "print(f'R2 score of grid: {r2_test_lass}')\n",
    "print(f'Mean squared error test of grid: {mse_test_elas}')\n",
    "print(f'R2 score of grid: {r2_test_elas}')"
   ]
  }
 ],
 "metadata": {
  "kernelspec": {
   "display_name": "Python 3",
   "language": "python",
   "name": "python3"
  },
  "language_info": {
   "codemirror_mode": {
    "name": "ipython",
    "version": 3
   },
   "file_extension": ".py",
   "mimetype": "text/x-python",
   "name": "python",
   "nbconvert_exporter": "python",
   "pygments_lexer": "ipython3",
   "version": "3.8.3"
  },
  "orig_nbformat": 4
 },
 "nbformat": 4,
 "nbformat_minor": 2
}
