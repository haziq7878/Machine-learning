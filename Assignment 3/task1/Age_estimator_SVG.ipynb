{
 "cells": [
  {
   "cell_type": "code",
   "execution_count": 1,
   "metadata": {},
   "outputs": [],
   "source": [
    "from sklearn.linear_model import SGDRegressor\n",
    "from sklearn.model_selection import train_test_split\n",
    "from sklearn.metrics import mean_squared_error as MSE\n",
    "from sklearn.model_selection import GridSearchCV\n",
    "import matplotlib.pyplot as plt\n",
    "import pandas as pd\n",
    "import numpy as np\n",
    "import pickle as pkl\n",
    "import cv2\n",
    "import os\n",
    "import re"
   ]
  },
  {
   "attachments": {},
   "cell_type": "markdown",
   "metadata": {},
   "source": [
    "<h1>Load Dataset and feature Matrix</h1>"
   ]
  },
  {
   "cell_type": "code",
   "execution_count": 2,
   "metadata": {},
   "outputs": [],
   "source": [
    "images = pd.read_csv('../Datasets/Assignment 3/Ages.csv')"
   ]
  },
  {
   "cell_type": "code",
   "execution_count": 3,
   "metadata": {},
   "outputs": [
    {
     "name": "stdout",
     "output_type": "stream",
     "text": [
      "(23708, 3072)\n"
     ]
    }
   ],
   "source": [
    "file_name = '../Datasets/Assignment 3/Compressed_images/Compressed_data_age_1'\n",
    "with open(file_name, 'rb') as handle:\n",
    "    feature_matrix = pkl.load(handle)\n",
    "print(feature_matrix.shape)"
   ]
  },
  {
   "cell_type": "code",
   "execution_count": 4,
   "metadata": {},
   "outputs": [],
   "source": [
    "X_train,X_test,y_train,y_test = train_test_split(feature_matrix,images['Age'],test_size=0.2)"
   ]
  },
  {
   "cell_type": "code",
   "execution_count": 5,
   "metadata": {},
   "outputs": [
    {
     "data": {
      "text/plain": [
       "((18966, 3072), (4742, 3072))"
      ]
     },
     "execution_count": 5,
     "metadata": {},
     "output_type": "execute_result"
    }
   ],
   "source": [
    "X_train.shape,X_test.shape"
   ]
  },
  {
   "cell_type": "code",
   "execution_count": 6,
   "metadata": {},
   "outputs": [],
   "source": [
    "reg = SGDRegressor(random_state=10,early_stopping=True)"
   ]
  },
  {
   "cell_type": "code",
   "execution_count": 7,
   "metadata": {},
   "outputs": [],
   "source": [
    "params = {'alpha':[0.0001,0.001,0.003,0.01,0.03,0.1],'penalty':['l2','l1','elasticnet',None],'l1_ratio':[0,0.1,0.15,0.18],'max_iter':[1000,2000],'loss':['huber']}"
   ]
  },
  {
   "cell_type": "code",
   "execution_count": 8,
   "metadata": {},
   "outputs": [],
   "source": [
    "searcher = GridSearchCV(reg,param_grid=params,cv=10,scoring='r2',n_jobs=-1)"
   ]
  },
  {
   "cell_type": "code",
   "execution_count": 9,
   "metadata": {},
   "outputs": [
    {
     "data": {
      "text/plain": [
       "GridSearchCV(cv=10,\n",
       "             estimator=SGDRegressor(early_stopping=True, random_state=10),\n",
       "             n_jobs=-1,\n",
       "             param_grid={'alpha': [0.0001, 0.001, 0.003, 0.01, 0.03, 0.1],\n",
       "                         'l1_ratio': [0, 0.1, 0.15, 0.18], 'loss': ['huber'],\n",
       "                         'max_iter': [1000, 2000],\n",
       "                         'penalty': ['l2', 'l1', 'elasticnet', None]},\n",
       "             scoring='r2')"
      ]
     },
     "execution_count": 9,
     "metadata": {},
     "output_type": "execute_result"
    }
   ],
   "source": [
    "searcher.fit(X_train,y_train)"
   ]
  },
  {
   "cell_type": "code",
   "execution_count": 10,
   "metadata": {},
   "outputs": [],
   "source": [
    "# y_pred = searcher.predict(X_test)\n",
    "reg = searcher.best_estimator_"
   ]
  },
  {
   "cell_type": "code",
   "execution_count": 11,
   "metadata": {},
   "outputs": [],
   "source": [
    "y_pred_test = reg.predict(X_test)\n",
    "y_pred_train = reg.predict(X_train)"
   ]
  },
  {
   "cell_type": "code",
   "execution_count": 12,
   "metadata": {},
   "outputs": [],
   "source": [
    "mse_test = MSE(y_test,y_pred_test)\n",
    "mse_train = MSE(y_train,y_pred_train)\n",
    "\n",
    "rmse_test = np.sqrt(mse_test)\n",
    "rmse_train = np.sqrt(mse_train) "
   ]
  },
  {
   "cell_type": "code",
   "execution_count": 13,
   "metadata": {},
   "outputs": [],
   "source": [
    "# model_file = 'SGF_Linear_Reg_Images_UTKFace.sav'\n",
    "model_file = 'SGF_Linear_Reg_Images_my_data.sav'\n",
    "pkl.dump(reg,open(model_file,'wb'))"
   ]
  },
  {
   "cell_type": "code",
   "execution_count": 14,
   "metadata": {},
   "outputs": [],
   "source": [
    "# model_file = 'SGF_Linear_Reg_Images_UTKFace.sav'\n",
    "model_file = 'SGF_Linear_Reg_Images_my_data.sav'\n",
    "reg = pkl.load(open(model_file,'rb'))"
   ]
  },
  {
   "attachments": {},
   "cell_type": "markdown",
   "metadata": {},
   "source": [
    "<h1 style='text-align:center'>Model evaluation</h1>"
   ]
  },
  {
   "attachments": {},
   "cell_type": "markdown",
   "metadata": {},
   "source": [
    "Linear Regression \n",
    "<br>\n",
    "Mean squared error 0.5069245345783313\n",
    "<br>\n",
    "Root mean squared error: 0.7119863303310895\n"
   ]
  },
  {
   "cell_type": "code",
   "execution_count": 15,
   "metadata": {},
   "outputs": [
    {
     "name": "stdout",
     "output_type": "stream",
     "text": [
      "Parameters: {'alpha': 0.001, 'average': False, 'early_stopping': True, 'epsilon': 0.1, 'eta0': 0.01, 'fit_intercept': True, 'l1_ratio': 0, 'learning_rate': 'invscaling', 'loss': 'huber', 'max_iter': 1000, 'n_iter_no_change': 5, 'penalty': 'l2', 'power_t': 0.25, 'random_state': 10, 'shuffle': True, 'tol': 0.001, 'validation_fraction': 0.1, 'verbose': 0, 'warm_start': False}\n",
      "Coefficient: [ 0.42624469  0.40871108  0.2515019  ...  0.02550148 -0.03746121\n",
      " -0.24444344]\n",
      "Intercept: [2.62523966]\n",
      "Mean squared error test: 284.60434821964924\n",
      "Mean squared error train: 304.97336955235704\n",
      "Root mean squared error train: 17.463486752431688\n",
      "Root mean squared error test: 16.8702207519537\n"
     ]
    }
   ],
   "source": [
    "print(f'Parameters: {reg.get_params()}')\n",
    "print(f'Coefficient: {reg.coef_}')\n",
    "print(f'Intercept: {reg.intercept_}')\n",
    "print(f'Mean squared error test: {mse_test}')\n",
    "print(f'Mean squared error train: {mse_train}')\n",
    "print(f'Root mean squared error train: {rmse_train}')\n",
    "print(f'Root mean squared error test: {rmse_test}')"
   ]
  },
  {
   "cell_type": "code",
   "execution_count": 18,
   "metadata": {},
   "outputs": [
    {
     "data": {
      "text/plain": [
       "((18966,), (4742,))"
      ]
     },
     "execution_count": 18,
     "metadata": {},
     "output_type": "execute_result"
    }
   ],
   "source": [
    "X_test_array_index = np.arange(1,X_test.shape[0]+1)\n",
    "X_train_array_index = np.arange(1,X_train.shape[0]+1)\n",
    "X_train_array_index.shape,y_test.shape"
   ]
  },
  {
   "cell_type": "code",
   "execution_count": 19,
   "metadata": {},
   "outputs": [
    {
     "data": {
      "image/png": "[encoded data removed]",
      "text/plain": [
       "<Figure size 432x288 with 1 Axes>"
      ]
     },
     "metadata": {
      "needs_background": "light"
     },
     "output_type": "display_data"
    }
   ],
   "source": [
    "plt.scatter(X_test_array_index[:100],y_test[:100],color='black',label='actual')\n",
    "plt.plot(X_test_array_index[:100],y_pred_test[:100],color='red',label='predicted')\n",
    "plt.legend()\n",
    "plt.plot()\n",
    "plt.show()"
   ]
  },
  {
   "cell_type": "code",
   "execution_count": null,
   "metadata": {},
   "outputs": [],
   "source": []
  }
 ],
 "metadata": {
  "kernelspec": {
   "display_name": "Python 3",
   "language": "python",
   "name": "python3"
  },
  "language_info": {
   "codemirror_mode": {
    "name": "ipython",
    "version": 3
   },
   "file_extension": ".py",
   "mimetype": "text/x-python",
   "name": "python",
   "nbconvert_exporter": "python",
   "pygments_lexer": "ipython3",
   "version": "3.8.3"
  },
  "orig_nbformat": 4
 },
 "nbformat": 4,
 "nbformat_minor": 2
}
