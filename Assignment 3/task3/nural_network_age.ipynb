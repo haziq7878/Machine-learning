{
 "cells": [
  {
   "cell_type": "code",
   "execution_count": 1,
   "metadata": {},
   "outputs": [],
   "source": [
    "import pandas as pd\n",
    "import numpy as np\n",
    "import pickle as pkl\n",
    "import tensorflow as tf\n",
    "from tensorflow import keras\n",
    "from tensorflow.keras import layers\n",
    "from sklearn.model_selection import train_test_split\n",
    "from sklearn.preprocessing import MinMaxScaler\n",
    "import matplotlib.pyplot as plt\n",
    "from sklearn.metrics import mean_squared_error as MSE, r2_score"
   ]
  },
  {
   "cell_type": "code",
   "execution_count": 2,
   "metadata": {},
   "outputs": [],
   "source": [
    "df = pd.read_csv('../../Datasets/Assignment 3/Ages.csv')\n",
    "images = pkl.load(open('../../Datasets/Assignment 3/Compressed_images/Compressed_data_age_1','rb')) "
   ]
  },
  {
   "cell_type": "code",
   "execution_count": 3,
   "metadata": {},
   "outputs": [],
   "source": [
    "scaler = MinMaxScaler()\n",
    "y = scaler.fit_transform(df['Age'].to_numpy().reshape(-1, 1))"
   ]
  },
  {
   "cell_type": "code",
   "execution_count": 4,
   "metadata": {},
   "outputs": [
    {
     "data": {
      "text/plain": [
       "array([[0.86086957],\n",
       "       [0.86086957],\n",
       "       [0.86086957],\n",
       "       ...,\n",
       "       [0.06956522],\n",
       "       [0.06956522],\n",
       "       [0.06956522]])"
      ]
     },
     "execution_count": 4,
     "metadata": {},
     "output_type": "execute_result"
    }
   ],
   "source": [
    "y"
   ]
  },
  {
   "cell_type": "code",
   "execution_count": 5,
   "metadata": {},
   "outputs": [],
   "source": [
    "X_train,X_test,y_train,y_test = train_test_split(images,y,random_state=32)"
   ]
  },
  {
   "cell_type": "code",
   "execution_count": 6,
   "metadata": {},
   "outputs": [
    {
     "data": {
      "text/plain": [
       "array([[0.20869565],\n",
       "       [0.2173913 ],\n",
       "       [0.29565217],\n",
       "       ...,\n",
       "       [0.26086957],\n",
       "       [0.33043478],\n",
       "       [0.2173913 ]])"
      ]
     },
     "execution_count": 6,
     "metadata": {},
     "output_type": "execute_result"
    }
   ],
   "source": [
    "y_test"
   ]
  },
  {
   "cell_type": "code",
   "execution_count": 7,
   "metadata": {},
   "outputs": [],
   "source": [
    "def load_compile_model(input_shape=(3072,)):\n",
    "    img_inputs_layer = keras.Input(shape=input_shape)\n",
    "\n",
    "    hidden_layer = layers.Dense(64,activation='relu')(img_inputs_layer) \n",
    "\n",
    "    output = layers.Dense(1,bias_initializer='ones')(hidden_layer)\n",
    "\n",
    "    # Create the model\n",
    "    model = tf.keras.models.Model(inputs=img_inputs_layer, outputs=output)\n",
    "    \n",
    "    # Compile the model\n",
    "    model.compile(optimizer=tf.keras.optimizers.Adam(learning_rate=0.01), loss='mean_squared_error')\n",
    "\n",
    "    return model"
   ]
  },
  {
   "cell_type": "code",
   "execution_count": 8,
   "metadata": {},
   "outputs": [],
   "source": [
    "model = load_compile_model()"
   ]
  },
  {
   "cell_type": "code",
   "execution_count": 9,
   "metadata": {},
   "outputs": [
    {
     "name": "stdout",
     "output_type": "stream",
     "text": [
      "Model: \"model\"\n",
      "_________________________________________________________________\n",
      " Layer (type)                Output Shape              Param #   \n",
      "=================================================================\n",
      " input_1 (InputLayer)        [(None, 3072)]            0         \n",
      "                                                                 \n",
      " dense (Dense)               (None, 64)                196672    \n",
      "                                                                 \n",
      " dense_1 (Dense)             (None, 1)                 65        \n",
      "                                                                 \n",
      "=================================================================\n",
      "Total params: 196,737\n",
      "Trainable params: 196,737\n",
      "Non-trainable params: 0\n",
      "_________________________________________________________________\n"
     ]
    }
   ],
   "source": [
    "model.summary()"
   ]
  },
  {
   "cell_type": "code",
   "execution_count": 10,
   "metadata": {},
   "outputs": [],
   "source": [
    "model.load_weights('model_checkpoint.h5')"
   ]
  },
  {
   "cell_type": "code",
   "execution_count": 11,
   "metadata": {},
   "outputs": [],
   "source": [
    "# Define the checkpoint path\n",
    "checkpoint_path = \"model_checkpoint.h5\"\n",
    "checkpoint = tf.keras.callbacks.ModelCheckpoint(checkpoint_path, save_best_only=True)"
   ]
  },
  {
   "cell_type": "code",
   "execution_count": 12,
   "metadata": {},
   "outputs": [
    {
     "name": "stdout",
     "output_type": "stream",
     "text": [
      "Epoch 1/50\n",
      "501/501 - 2s - loss: 13.3141 - val_loss: 0.0303 - 2s/epoch - 3ms/step\n",
      "Epoch 2/50\n",
      "501/501 - 1s - loss: 0.0308 - val_loss: 0.0255 - 1s/epoch - 2ms/step\n",
      "Epoch 3/50\n",
      "501/501 - 1s - loss: 0.0276 - val_loss: 0.0383 - 881ms/epoch - 2ms/step\n",
      "Epoch 4/50\n",
      "501/501 - 1s - loss: 0.0258 - val_loss: 0.0303 - 861ms/epoch - 2ms/step\n",
      "Epoch 5/50\n",
      "501/501 - 1s - loss: 0.0236 - val_loss: 0.0194 - 1s/epoch - 2ms/step\n",
      "Epoch 6/50\n",
      "501/501 - 1s - loss: 0.0207 - val_loss: 0.0313 - 857ms/epoch - 2ms/step\n",
      "Epoch 7/50\n",
      "501/501 - 1s - loss: 0.0211 - val_loss: 0.0190 - 909ms/epoch - 2ms/step\n",
      "Epoch 8/50\n",
      "501/501 - 1s - loss: 0.0192 - val_loss: 0.0167 - 1s/epoch - 2ms/step\n",
      "Epoch 9/50\n",
      "501/501 - 1s - loss: 0.0177 - val_loss: 0.0189 - 972ms/epoch - 2ms/step\n",
      "Epoch 10/50\n",
      "501/501 - 1s - loss: 0.0167 - val_loss: 0.0155 - 977ms/epoch - 2ms/step\n",
      "Epoch 11/50\n",
      "501/501 - 1s - loss: 0.0167 - val_loss: 0.0188 - 922ms/epoch - 2ms/step\n",
      "Epoch 12/50\n",
      "501/501 - 1s - loss: 0.0174 - val_loss: 0.0362 - 928ms/epoch - 2ms/step\n",
      "Epoch 13/50\n",
      "501/501 - 1s - loss: 0.0177 - val_loss: 0.0157 - 1s/epoch - 2ms/step\n",
      "Epoch 14/50\n",
      "501/501 - 1s - loss: 0.0172 - val_loss: 0.0205 - 872ms/epoch - 2ms/step\n",
      "Epoch 15/50\n",
      "501/501 - 1s - loss: 0.0170 - val_loss: 0.0155 - 899ms/epoch - 2ms/step\n",
      "Epoch 16/50\n",
      "501/501 - 1s - loss: 0.0168 - val_loss: 0.0188 - 916ms/epoch - 2ms/step\n",
      "Epoch 17/50\n",
      "501/501 - 1s - loss: 0.0165 - val_loss: 0.0151 - 910ms/epoch - 2ms/step\n",
      "Epoch 18/50\n",
      "501/501 - 1s - loss: 0.0165 - val_loss: 0.0227 - 897ms/epoch - 2ms/step\n",
      "Epoch 19/50\n",
      "501/501 - 1s - loss: 0.0167 - val_loss: 0.0426 - 988ms/epoch - 2ms/step\n",
      "Epoch 20/50\n",
      "501/501 - 1s - loss: 0.0173 - val_loss: 0.0152 - 880ms/epoch - 2ms/step\n",
      "Epoch 21/50\n",
      "501/501 - 1s - loss: 0.0172 - val_loss: 0.0204 - 927ms/epoch - 2ms/step\n",
      "Epoch 22/50\n",
      "501/501 - 1s - loss: 0.0156 - val_loss: 0.0159 - 882ms/epoch - 2ms/step\n",
      "Epoch 23/50\n",
      "501/501 - 1s - loss: 0.0165 - val_loss: 0.0212 - 917ms/epoch - 2ms/step\n",
      "Epoch 24/50\n",
      "501/501 - 1s - loss: 0.0158 - val_loss: 0.0144 - 1s/epoch - 2ms/step\n",
      "Epoch 25/50\n",
      "501/501 - 1s - loss: 0.0157 - val_loss: 0.0184 - 915ms/epoch - 2ms/step\n",
      "Epoch 26/50\n",
      "501/501 - 1s - loss: 0.0155 - val_loss: 0.0146 - 929ms/epoch - 2ms/step\n",
      "Epoch 27/50\n",
      "501/501 - 1s - loss: 0.0158 - val_loss: 0.0199 - 863ms/epoch - 2ms/step\n",
      "Epoch 28/50\n",
      "501/501 - 1s - loss: 0.0157 - val_loss: 0.0142 - 908ms/epoch - 2ms/step\n",
      "Epoch 29/50\n",
      "501/501 - 1s - loss: 0.0150 - val_loss: 0.0212 - 907ms/epoch - 2ms/step\n",
      "Epoch 30/50\n",
      "501/501 - 1s - loss: 0.0160 - val_loss: 0.0149 - 922ms/epoch - 2ms/step\n",
      "Epoch 31/50\n",
      "501/501 - 1s - loss: 0.0158 - val_loss: 0.0193 - 910ms/epoch - 2ms/step\n",
      "Epoch 32/50\n",
      "501/501 - 1s - loss: 0.0155 - val_loss: 0.0408 - 902ms/epoch - 2ms/step\n",
      "Epoch 33/50\n",
      "501/501 - 1s - loss: 0.0158 - val_loss: 0.0151 - 902ms/epoch - 2ms/step\n",
      "Epoch 34/50\n",
      "501/501 - 1s - loss: 0.0151 - val_loss: 0.0184 - 898ms/epoch - 2ms/step\n",
      "Epoch 35/50\n",
      "501/501 - 1s - loss: 0.0152 - val_loss: 0.0152 - 923ms/epoch - 2ms/step\n",
      "Epoch 36/50\n",
      "501/501 - 1s - loss: 0.0162 - val_loss: 0.0161 - 972ms/epoch - 2ms/step\n",
      "Epoch 37/50\n",
      "501/501 - 1s - loss: 0.0156 - val_loss: 0.0183 - 903ms/epoch - 2ms/step\n",
      "Epoch 38/50\n",
      "501/501 - 1s - loss: 0.0150 - val_loss: 0.0144 - 924ms/epoch - 2ms/step\n",
      "Epoch 39/50\n",
      "501/501 - 1s - loss: 0.0152 - val_loss: 0.0233 - 910ms/epoch - 2ms/step\n",
      "Epoch 40/50\n",
      "501/501 - 1s - loss: 0.0150 - val_loss: 0.0156 - 910ms/epoch - 2ms/step\n",
      "Epoch 41/50\n",
      "501/501 - 1s - loss: 0.0154 - val_loss: 0.0157 - 882ms/epoch - 2ms/step\n",
      "Epoch 42/50\n",
      "501/501 - 1s - loss: 0.0150 - val_loss: 0.0282 - 942ms/epoch - 2ms/step\n",
      "Epoch 43/50\n",
      "501/501 - 1s - loss: 0.0149 - val_loss: 0.0161 - 890ms/epoch - 2ms/step\n",
      "Epoch 44/50\n",
      "501/501 - 1s - loss: 0.0153 - val_loss: 0.0140 - 920ms/epoch - 2ms/step\n",
      "Epoch 45/50\n",
      "501/501 - 1s - loss: 0.0154 - val_loss: 0.0158 - 871ms/epoch - 2ms/step\n",
      "Epoch 46/50\n",
      "501/501 - 1s - loss: 0.0146 - val_loss: 0.0158 - 893ms/epoch - 2ms/step\n",
      "Epoch 47/50\n",
      "501/501 - 1s - loss: 0.0150 - val_loss: 0.0179 - 881ms/epoch - 2ms/step\n",
      "Epoch 48/50\n",
      "501/501 - 1s - loss: 0.0146 - val_loss: 0.0165 - 924ms/epoch - 2ms/step\n",
      "Epoch 49/50\n",
      "501/501 - 1s - loss: 0.0150 - val_loss: 0.0167 - 865ms/epoch - 2ms/step\n",
      "Epoch 50/50\n",
      "501/501 - 1s - loss: 0.0147 - val_loss: 0.0139 - 910ms/epoch - 2ms/step\n"
     ]
    }
   ],
   "source": [
    "history = model.fit(x=X_train,y=y_train,epochs=50,validation_split=0.1,verbose=2,callbacks=[checkpoint])"
   ]
  },
  {
   "cell_type": "code",
   "execution_count": 13,
   "metadata": {},
   "outputs": [],
   "source": [
    "def plot_loss(history):\n",
    "  plt.plot(history.history['loss'], label='loss')\n",
    "  plt.plot(history.history['val_loss'], label='val_loss')\n",
    "  plt.ylim([0, 10])\n",
    "  plt.xlabel('Epoch')\n",
    "  plt.ylabel('Error [MPG]')\n",
    "  plt.legend()\n",
    "  plt.grid(True)"
   ]
  },
  {
   "cell_type": "code",
   "execution_count": 14,
   "metadata": {},
   "outputs": [
    {
     "data": {
      "image/png": "[encoded data removed]",
      "text/plain": [
       "<Figure size 432x288 with 1 Axes>"
      ]
     },
     "metadata": {
      "needs_background": "light"
     },
     "output_type": "display_data"
    }
   ],
   "source": [
    "plot_loss(history)"
   ]
  },
  {
   "cell_type": "code",
   "execution_count": 15,
   "metadata": {},
   "outputs": [
    {
     "name": "stdout",
     "output_type": "stream",
     "text": [
      "186/186 [==============================] - 0s 2ms/step\n"
     ]
    }
   ],
   "source": [
    "y_pred = model.predict(X_test)"
   ]
  },
  {
   "cell_type": "code",
   "execution_count": 16,
   "metadata": {},
   "outputs": [],
   "source": [
    "mse = MSE(y_test,y_pred)\n",
    "r2 = r2_score(y_test,y_pred) "
   ]
  },
  {
   "cell_type": "code",
   "execution_count": 17,
   "metadata": {},
   "outputs": [
    {
     "name": "stdout",
     "output_type": "stream",
     "text": [
      "Mean squared error test: 0.014542552741824947\n",
      "R2 score: 0.5148520709684843\n"
     ]
    }
   ],
   "source": [
    "print(f'Mean squared error test: {mse}')\n",
    "print(f'R2 score: {r2}')"
   ]
  }
 ],
 "metadata": {
  "kernelspec": {
   "display_name": "Python 3",
   "language": "python",
   "name": "python3"
  },
  "language_info": {
   "codemirror_mode": {
    "name": "ipython",
    "version": 3
   },
   "file_extension": ".py",
   "mimetype": "text/x-python",
   "name": "python",
   "nbconvert_exporter": "python",
   "pygments_lexer": "ipython3",
   "version": "3.8.3"
  },
  "orig_nbformat": 4
 },
 "nbformat": 4,
 "nbformat_minor": 2
}
