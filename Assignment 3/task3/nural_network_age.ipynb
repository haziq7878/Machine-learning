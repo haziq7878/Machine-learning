{
 "cells": [
  {
   "cell_type": "code",
   "execution_count": 2,
   "metadata": {},
   "outputs": [],
   "source": [
    "import pandas as pd\n",
    "import numpy as np\n",
    "import pickle as pkl\n",
    "import tensorflow as tf\n",
    "from tensorflow import keras\n",
    "from tensorflow.keras import layers\n",
    "from sklearn.model_selection import train_test_split\n",
    "from sklearn.preprocessing import MinMaxScaler\n",
    "import matplotlib.pyplot as plt\n",
    "from sklearn.metrics import mean_squared_error as MSE, r2_score\n",
    "from sklearn.metrics import accuracy_score, classification_report\n",
    "from sklearn.metrics import confusion_matrix, ConfusionMatrixDisplay"
   ]
  },
  {
   "cell_type": "code",
   "execution_count": null,
   "metadata": {},
   "outputs": [],
   "source": [
    "df = pd.read_csv('../../Datasets/Assignment 3/Ages.csv')\n",
    "images = pkl.load(open('../../Datasets/Assignment 3/Compressed_images/Compressed_data_age_1','rb')) "
   ]
  },
  {
   "cell_type": "code",
   "execution_count": null,
   "metadata": {},
   "outputs": [],
   "source": [
    "scaler = MinMaxScaler()\n",
    "y = scaler.fit_transform(df['Age'].to_numpy().reshape(-1, 1))"
   ]
  },
  {
   "cell_type": "code",
   "execution_count": null,
   "metadata": {},
   "outputs": [
    {
     "data": {
      "text/plain": [
       "array([[0.86086957],\n",
       "       [0.86086957],\n",
       "       [0.86086957],\n",
       "       ...,\n",
       "       [0.06956522],\n",
       "       [0.06956522],\n",
       "       [0.06956522]])"
      ]
     },
     "execution_count": 27,
     "metadata": {},
     "output_type": "execute_result"
    }
   ],
   "source": [
    "y"
   ]
  },
  {
   "cell_type": "code",
   "execution_count": null,
   "metadata": {},
   "outputs": [],
   "source": [
    "X_train,X_test,y_train,y_test = train_test_split(images,y,random_state=32)"
   ]
  },
  {
   "cell_type": "code",
   "execution_count": null,
   "metadata": {},
   "outputs": [
    {
     "data": {
      "text/plain": [
       "array([[0.20869565],\n",
       "       [0.2173913 ],\n",
       "       [0.29565217],\n",
       "       ...,\n",
       "       [0.26086957],\n",
       "       [0.33043478],\n",
       "       [0.2173913 ]])"
      ]
     },
     "execution_count": 29,
     "metadata": {},
     "output_type": "execute_result"
    }
   ],
   "source": [
    "y_test"
   ]
  },
  {
   "cell_type": "code",
   "execution_count": null,
   "metadata": {},
   "outputs": [],
   "source": [
    "def load_compile_model_age(input_shape=(3072,)):\n",
    "    img_inputs_layer = keras.Input(shape=input_shape)\n",
    "\n",
    "    hidden_layer = layers.Dense(64,activation='relu')(img_inputs_layer) \n",
    "\n",
    "    output = layers.Dense(1,bias_initializer='ones')(hidden_layer)\n",
    "\n",
    "    # Create the model\n",
    "    model = tf.keras.models.Model(inputs=img_inputs_layer, outputs=output)\n",
    "    \n",
    "    # Compile the model\n",
    "    model.compile(optimizer=tf.keras.optimizers.Adam(learning_rate=0.01), loss='mean_squared_error')\n",
    "\n",
    "    return model"
   ]
  },
  {
   "cell_type": "code",
   "execution_count": null,
   "metadata": {},
   "outputs": [],
   "source": [
    "age_model = load_compile_model_age()"
   ]
  },
  {
   "cell_type": "code",
   "execution_count": null,
   "metadata": {},
   "outputs": [
    {
     "name": "stdout",
     "output_type": "stream",
     "text": [
      "Model: \"model_2\"\n",
      "_________________________________________________________________\n",
      " Layer (type)                Output Shape              Param #   \n",
      "=================================================================\n",
      " input_3 (InputLayer)        [(None, 3072)]            0         \n",
      "                                                                 \n",
      " dense_6 (Dense)             (None, 64)                196672    \n",
      "                                                                 \n",
      " dense_7 (Dense)             (None, 1)                 65        \n",
      "                                                                 \n",
      "=================================================================\n",
      "Total params: 196,737\n",
      "Trainable params: 196,737\n",
      "Non-trainable params: 0\n",
      "_________________________________________________________________\n"
     ]
    }
   ],
   "source": [
    "age_model.summary()"
   ]
  },
  {
   "cell_type": "code",
   "execution_count": null,
   "metadata": {},
   "outputs": [],
   "source": [
    "age_model.load_weights('model_checkpoint_age.h5')"
   ]
  },
  {
   "cell_type": "code",
   "execution_count": null,
   "metadata": {},
   "outputs": [],
   "source": [
    "# Define the checkpoint path\n",
    "checkpoint_path = \"model_checkpoint_age.h5\"\n",
    "checkpoint = tf.keras.callbacks.ModelCheckpoint(checkpoint_path, save_best_only=True)"
   ]
  },
  {
   "cell_type": "code",
   "execution_count": null,
   "metadata": {},
   "outputs": [
    {
     "name": "stdout",
     "output_type": "stream",
     "text": [
      "Epoch 1/50\n",
      "501/501 - 1s - loss: 12.9859 - val_loss: 0.1047 - 1s/epoch - 3ms/step\n",
      "Epoch 2/50\n",
      "501/501 - 1s - loss: 0.0484 - val_loss: 0.0315 - 931ms/epoch - 2ms/step\n",
      "Epoch 3/50\n",
      "501/501 - 1s - loss: 0.0300 - val_loss: 0.0305 - 1s/epoch - 2ms/step\n",
      "Epoch 4/50\n",
      "501/501 - 1s - loss: 0.0298 - val_loss: 0.0304 - 959ms/epoch - 2ms/step\n",
      "Epoch 5/50\n",
      "501/501 - 1s - loss: 0.0298 - val_loss: 0.0304 - 1s/epoch - 2ms/step\n",
      "Epoch 6/50\n",
      "501/501 - 1s - loss: 0.0298 - val_loss: 0.0304 - 1s/epoch - 2ms/step\n",
      "Epoch 7/50\n",
      "501/501 - 1s - loss: 0.0298 - val_loss: 0.0304 - 997ms/epoch - 2ms/step\n",
      "Epoch 8/50\n",
      "501/501 - 1s - loss: 0.0298 - val_loss: 0.0305 - 888ms/epoch - 2ms/step\n",
      "Epoch 9/50\n",
      "501/501 - 1s - loss: 0.0298 - val_loss: 0.0304 - 892ms/epoch - 2ms/step\n",
      "Epoch 10/50\n",
      "501/501 - 1s - loss: 0.0298 - val_loss: 0.0306 - 990ms/epoch - 2ms/step\n",
      "Epoch 11/50\n",
      "501/501 - 1s - loss: 0.0298 - val_loss: 0.0305 - 904ms/epoch - 2ms/step\n",
      "Epoch 12/50\n",
      "501/501 - 1s - loss: 0.0298 - val_loss: 0.0304 - 930ms/epoch - 2ms/step\n",
      "Epoch 13/50\n",
      "501/501 - 1s - loss: 0.0299 - val_loss: 0.0307 - 918ms/epoch - 2ms/step\n",
      "Epoch 14/50\n",
      "501/501 - 1s - loss: 0.0299 - val_loss: 0.0305 - 987ms/epoch - 2ms/step\n",
      "Epoch 15/50\n",
      "501/501 - 1s - loss: 0.0299 - val_loss: 0.0304 - 870ms/epoch - 2ms/step\n",
      "Epoch 16/50\n",
      "501/501 - 1s - loss: 0.0299 - val_loss: 0.0306 - 966ms/epoch - 2ms/step\n",
      "Epoch 17/50\n",
      "501/501 - 1s - loss: 0.0299 - val_loss: 0.0304 - 951ms/epoch - 2ms/step\n",
      "Epoch 18/50\n",
      "501/501 - 1s - loss: 0.0299 - val_loss: 0.0305 - 922ms/epoch - 2ms/step\n",
      "Epoch 19/50\n",
      "501/501 - 1s - loss: 0.0300 - val_loss: 0.0304 - 933ms/epoch - 2ms/step\n",
      "Epoch 20/50\n",
      "501/501 - 1s - loss: 0.0299 - val_loss: 0.0305 - 900ms/epoch - 2ms/step\n",
      "Epoch 21/50\n",
      "501/501 - 1s - loss: 0.0300 - val_loss: 0.0304 - 1s/epoch - 2ms/step\n",
      "Epoch 22/50\n",
      "501/501 - 1s - loss: 0.0300 - val_loss: 0.0306 - 1s/epoch - 2ms/step\n",
      "Epoch 23/50\n",
      "501/501 - 1s - loss: 0.0299 - val_loss: 0.0305 - 915ms/epoch - 2ms/step\n",
      "Epoch 24/50\n",
      "501/501 - 1s - loss: 0.0300 - val_loss: 0.0305 - 1s/epoch - 2ms/step\n",
      "Epoch 25/50\n",
      "501/501 - 1s - loss: 0.0300 - val_loss: 0.0304 - 921ms/epoch - 2ms/step\n",
      "Epoch 26/50\n",
      "501/501 - 1s - loss: 0.0300 - val_loss: 0.0313 - 890ms/epoch - 2ms/step\n",
      "Epoch 27/50\n",
      "501/501 - 1s - loss: 0.0300 - val_loss: 0.0304 - 875ms/epoch - 2ms/step\n",
      "Epoch 28/50\n",
      "501/501 - 1s - loss: 0.0300 - val_loss: 0.0308 - 928ms/epoch - 2ms/step\n",
      "Epoch 29/50\n",
      "501/501 - 1s - loss: 0.0300 - val_loss: 0.0304 - 891ms/epoch - 2ms/step\n",
      "Epoch 30/50\n",
      "501/501 - 1s - loss: 0.0299 - val_loss: 0.0304 - 945ms/epoch - 2ms/step\n",
      "Epoch 31/50\n",
      "501/501 - 1s - loss: 0.0300 - val_loss: 0.0308 - 890ms/epoch - 2ms/step\n",
      "Epoch 32/50\n",
      "501/501 - 1s - loss: 0.0300 - val_loss: 0.0307 - 870ms/epoch - 2ms/step\n",
      "Epoch 33/50\n",
      "501/501 - 1s - loss: 0.0300 - val_loss: 0.0306 - 854ms/epoch - 2ms/step\n",
      "Epoch 34/50\n",
      "501/501 - 1s - loss: 0.0299 - val_loss: 0.0304 - 1s/epoch - 2ms/step\n",
      "Epoch 35/50\n",
      "501/501 - 1s - loss: 0.0300 - val_loss: 0.0306 - 1s/epoch - 2ms/step\n",
      "Epoch 36/50\n",
      "501/501 - 1s - loss: 0.0299 - val_loss: 0.0308 - 918ms/epoch - 2ms/step\n",
      "Epoch 37/50\n",
      "501/501 - 1s - loss: 0.0300 - val_loss: 0.0305 - 1s/epoch - 2ms/step\n",
      "Epoch 38/50\n",
      "501/501 - 1s - loss: 0.0300 - val_loss: 0.0305 - 969ms/epoch - 2ms/step\n",
      "Epoch 39/50\n",
      "501/501 - 1s - loss: 0.0299 - val_loss: 0.0304 - 959ms/epoch - 2ms/step\n",
      "Epoch 40/50\n",
      "501/501 - 1s - loss: 0.0299 - val_loss: 0.0305 - 994ms/epoch - 2ms/step\n",
      "Epoch 41/50\n",
      "501/501 - 1s - loss: 0.0300 - val_loss: 0.0305 - 967ms/epoch - 2ms/step\n",
      "Epoch 42/50\n",
      "501/501 - 1s - loss: 0.0299 - val_loss: 0.0306 - 939ms/epoch - 2ms/step\n",
      "Epoch 43/50\n",
      "501/501 - 1s - loss: 0.0299 - val_loss: 0.0304 - 946ms/epoch - 2ms/step\n",
      "Epoch 44/50\n",
      "501/501 - 1s - loss: 0.0300 - val_loss: 0.0304 - 984ms/epoch - 2ms/step\n",
      "Epoch 45/50\n",
      "501/501 - 1s - loss: 0.0300 - val_loss: 0.0304 - 913ms/epoch - 2ms/step\n",
      "Epoch 46/50\n",
      "501/501 - 1s - loss: 0.0300 - val_loss: 0.0311 - 974ms/epoch - 2ms/step\n",
      "Epoch 47/50\n",
      "501/501 - 1s - loss: 0.0300 - val_loss: 0.0304 - 966ms/epoch - 2ms/step\n",
      "Epoch 48/50\n",
      "501/501 - 1s - loss: 0.0299 - val_loss: 0.0306 - 1s/epoch - 2ms/step\n",
      "Epoch 49/50\n",
      "501/501 - 1s - loss: 0.0300 - val_loss: 0.0306 - 961ms/epoch - 2ms/step\n",
      "Epoch 50/50\n",
      "501/501 - 1s - loss: 0.0299 - val_loss: 0.0308 - 913ms/epoch - 2ms/step\n"
     ]
    }
   ],
   "source": [
    "history = age_model.fit(x=X_train,y=y_train,epochs=50,validation_split=0.1,verbose=2,callbacks=[checkpoint])"
   ]
  },
  {
   "cell_type": "code",
   "execution_count": 12,
   "metadata": {},
   "outputs": [],
   "source": [
    "def plot_loss(history):\n",
    "  plt.plot(history.history['loss'], label='loss')\n",
    "  plt.plot(history.history['val_loss'], label='val_loss')\n",
    "  plt.ylim([0, 10])\n",
    "  plt.xlabel('Epoch')\n",
    "  plt.ylabel('Error [MPG]')\n",
    "  plt.legend()\n",
    "  plt.grid(True)"
   ]
  },
  {
   "cell_type": "code",
   "execution_count": null,
   "metadata": {},
   "outputs": [
    {
     "data": {
      "image/png": "[encoded data removed]",
      "text/plain": [
       "<Figure size 432x288 with 1 Axes>"
      ]
     },
     "metadata": {
      "needs_background": "light"
     },
     "output_type": "display_data"
    }
   ],
   "source": [
    "plot_loss(history)"
   ]
  },
  {
   "cell_type": "code",
   "execution_count": null,
   "metadata": {},
   "outputs": [
    {
     "name": "stdout",
     "output_type": "stream",
     "text": [
      "186/186 [==============================] - 0s 1ms/step\n"
     ]
    }
   ],
   "source": [
    "y_pred = age_model.predict(X_test)"
   ]
  },
  {
   "cell_type": "code",
   "execution_count": null,
   "metadata": {},
   "outputs": [],
   "source": [
    "mse = MSE(y_test,y_pred)\n",
    "r2 = r2_score(y_test,y_pred) "
   ]
  },
  {
   "cell_type": "code",
   "execution_count": null,
   "metadata": {},
   "outputs": [
    {
     "name": "stdout",
     "output_type": "stream",
     "text": [
      "Mean squared error test: 0.030284395645602716\n",
      "R2 score: -0.010304868084078711\n"
     ]
    }
   ],
   "source": [
    "print(f'Mean squared error test: {mse}')\n",
    "print(f'R2 score: {r2}')"
   ]
  },
  {
   "attachments": {},
   "cell_type": "markdown",
   "metadata": {},
   "source": [
    "<h1>Identity me vs not me</h1>"
   ]
  },
  {
   "cell_type": "code",
   "execution_count": 3,
   "metadata": {},
   "outputs": [],
   "source": [
    "df = pd.read_csv('../../Assignment 1/task1/Data.csv')"
   ]
  },
  {
   "cell_type": "code",
   "execution_count": 4,
   "metadata": {},
   "outputs": [
    {
     "name": "stdout",
     "output_type": "stream",
     "text": [
      "(61, 3072)\n"
     ]
    }
   ],
   "source": [
    "file_name = '../../Assignment 1/task1/Compressed_data_1'\n",
    "with open(file_name, 'rb') as handle:\n",
    "    feature_matrix = pkl.load(handle)\n",
    "print(feature_matrix.shape)"
   ]
  },
  {
   "cell_type": "code",
   "execution_count": null,
   "metadata": {},
   "outputs": [],
   "source": [
    "X = feature_matrix\n",
    "y = df['Identity']"
   ]
  },
  {
   "cell_type": "code",
   "execution_count": null,
   "metadata": {},
   "outputs": [],
   "source": [
    "X_train,X_test,y_train,y_test = train_test_split(X,y,test_size=0.2,stratify=y,random_state=32)\n",
    "y_train = np.array([1 if label == 'haziq' else 0 for label in y_train])\n",
    "y_test = np.array([1 if label == 'haziq' else 0 for label in y_test])"
   ]
  },
  {
   "cell_type": "code",
   "execution_count": null,
   "metadata": {},
   "outputs": [],
   "source": [
    "def load_compile_model_identity(input_shape=(3072,)):\n",
    "    img_inputs_layer = keras.Input(shape=input_shape)\n",
    "\n",
    "    hidden_layer = layers.Dense(64,activation='relu')(img_inputs_layer) \n",
    "\n",
    "    hidden_layer_2 = layers.Dense(64,activation='relu')(hidden_layer)\n",
    "    \n",
    "    output = layers.Dense(1,activation='sigmoid',bias_initializer='ones')(hidden_layer_2)\n",
    "\n",
    "\n",
    "    # Create the model\n",
    "    model = tf.keras.models.Model(inputs=img_inputs_layer, outputs=output)\n",
    "    \n",
    "    # Compile the model\n",
    "    model.compile(optimizer=tf.keras.optimizers.Adam(learning_rate=0.01), loss=tf.keras.losses.BinaryCrossentropy(), metrics=['accuracy'])\n",
    "\n",
    "    return model"
   ]
  },
  {
   "cell_type": "code",
   "execution_count": null,
   "metadata": {},
   "outputs": [],
   "source": [
    "identity_model = load_compile_model_identity()"
   ]
  },
  {
   "cell_type": "code",
   "execution_count": null,
   "metadata": {},
   "outputs": [
    {
     "name": "stdout",
     "output_type": "stream",
     "text": [
      "Model: \"model_3\"\n",
      "_________________________________________________________________\n",
      " Layer (type)                Output Shape              Param #   \n",
      "=================================================================\n",
      " input_4 (InputLayer)        [(None, 3072)]            0         \n",
      "                                                                 \n",
      " dense_8 (Dense)             (None, 64)                196672    \n",
      "                                                                 \n",
      " dense_9 (Dense)             (None, 64)                4160      \n",
      "                                                                 \n",
      " dense_10 (Dense)            (None, 1)                 65        \n",
      "                                                                 \n",
      "=================================================================\n",
      "Total params: 200,897\n",
      "Trainable params: 200,897\n",
      "Non-trainable params: 0\n",
      "_________________________________________________________________\n"
     ]
    }
   ],
   "source": [
    "identity_model.summary()"
   ]
  },
  {
   "cell_type": "code",
   "execution_count": null,
   "metadata": {},
   "outputs": [],
   "source": [
    "# Define the checkpoint path\n",
    "checkpoint_path = \"model_checkpoint_id.h5\"\n",
    "checkpoint = tf.keras.callbacks.ModelCheckpoint(checkpoint_path, save_best_only=True)"
   ]
  },
  {
   "cell_type": "code",
   "execution_count": null,
   "metadata": {},
   "outputs": [
    {
     "name": "stdout",
     "output_type": "stream",
     "text": [
      "Epoch 1/50\n",
      "2/2 - 1s - loss: 2.1308 - accuracy: 0.4186 - val_loss: 7.6657 - val_accuracy: 0.6000 - 575ms/epoch - 288ms/step\n",
      "Epoch 2/50\n",
      "2/2 - 0s - loss: 8.2315 - accuracy: 0.4884 - val_loss: 0.4599 - val_accuracy: 0.6000 - 50ms/epoch - 25ms/step\n",
      "Epoch 3/50\n",
      "2/2 - 0s - loss: 1.1142 - accuracy: 0.5581 - val_loss: 4.7981 - val_accuracy: 0.4000 - 30ms/epoch - 15ms/step\n",
      "Epoch 4/50\n",
      "2/2 - 0s - loss: 3.1990 - accuracy: 0.5116 - val_loss: 1.3816 - val_accuracy: 0.6000 - 30ms/epoch - 15ms/step\n",
      "Epoch 5/50\n",
      "2/2 - 0s - loss: 1.8560 - accuracy: 0.4884 - val_loss: 0.9704 - val_accuracy: 0.6000 - 29ms/epoch - 15ms/step\n",
      "Epoch 6/50\n",
      "2/2 - 0s - loss: 1.0026 - accuracy: 0.6047 - val_loss: 0.2634 - val_accuracy: 0.8000 - 49ms/epoch - 25ms/step\n",
      "Epoch 7/50\n",
      "2/2 - 0s - loss: 0.6751 - accuracy: 0.8140 - val_loss: 0.4349 - val_accuracy: 0.8000 - 31ms/epoch - 15ms/step\n",
      "Epoch 8/50\n",
      "2/2 - 0s - loss: 0.5435 - accuracy: 0.8372 - val_loss: 0.0033 - val_accuracy: 1.0000 - 50ms/epoch - 25ms/step\n",
      "Epoch 9/50\n",
      "2/2 - 0s - loss: 0.0740 - accuracy: 0.9767 - val_loss: 0.0600 - val_accuracy: 1.0000 - 28ms/epoch - 14ms/step\n",
      "Epoch 10/50\n",
      "2/2 - 0s - loss: 0.1964 - accuracy: 0.9070 - val_loss: 0.0325 - val_accuracy: 1.0000 - 28ms/epoch - 14ms/step\n",
      "Epoch 11/50\n",
      "2/2 - 0s - loss: 0.0803 - accuracy: 0.9767 - val_loss: 5.1331e-04 - val_accuracy: 1.0000 - 51ms/epoch - 25ms/step\n",
      "Epoch 12/50\n",
      "2/2 - 0s - loss: 0.0069 - accuracy: 1.0000 - val_loss: 5.1989e-05 - val_accuracy: 1.0000 - 59ms/epoch - 29ms/step\n",
      "Epoch 13/50\n",
      "2/2 - 0s - loss: 0.0600 - accuracy: 0.9767 - val_loss: 9.5195e-05 - val_accuracy: 1.0000 - 32ms/epoch - 16ms/step\n",
      "Epoch 14/50\n",
      "2/2 - 0s - loss: 0.1160 - accuracy: 0.9535 - val_loss: 3.0757e-05 - val_accuracy: 1.0000 - 56ms/epoch - 28ms/step\n",
      "Epoch 15/50\n",
      "2/2 - 0s - loss: 0.0601 - accuracy: 0.9767 - val_loss: 4.0680e-05 - val_accuracy: 1.0000 - 32ms/epoch - 16ms/step\n",
      "Epoch 16/50\n",
      "2/2 - 0s - loss: 6.8578e-04 - accuracy: 1.0000 - val_loss: 3.5573e-04 - val_accuracy: 1.0000 - 59ms/epoch - 30ms/step\n",
      "Epoch 17/50\n",
      "2/2 - 0s - loss: 0.0048 - accuracy: 1.0000 - val_loss: 0.0020 - val_accuracy: 1.0000 - 34ms/epoch - 17ms/step\n",
      "Epoch 18/50\n",
      "2/2 - 0s - loss: 0.0216 - accuracy: 1.0000 - val_loss: 0.0047 - val_accuracy: 1.0000 - 34ms/epoch - 17ms/step\n",
      "Epoch 19/50\n",
      "2/2 - 0s - loss: 0.0388 - accuracy: 0.9767 - val_loss: 0.0032 - val_accuracy: 1.0000 - 30ms/epoch - 15ms/step\n",
      "Epoch 20/50\n",
      "2/2 - 0s - loss: 0.0282 - accuracy: 0.9767 - val_loss: 9.9363e-04 - val_accuracy: 1.0000 - 27ms/epoch - 13ms/step\n",
      "Epoch 21/50\n",
      "2/2 - 0s - loss: 0.0105 - accuracy: 1.0000 - val_loss: 2.6629e-04 - val_accuracy: 1.0000 - 29ms/epoch - 14ms/step\n",
      "Epoch 22/50\n",
      "2/2 - 0s - loss: 0.0028 - accuracy: 1.0000 - val_loss: 9.4482e-05 - val_accuracy: 1.0000 - 27ms/epoch - 14ms/step\n",
      "Epoch 23/50\n",
      "2/2 - 0s - loss: 8.5677e-04 - accuracy: 1.0000 - val_loss: 3.9530e-05 - val_accuracy: 1.0000 - 27ms/epoch - 13ms/step\n",
      "Epoch 24/50\n",
      "2/2 - 0s - loss: 3.4801e-04 - accuracy: 1.0000 - val_loss: 1.8655e-05 - val_accuracy: 1.0000 - 46ms/epoch - 23ms/step\n",
      "Epoch 25/50\n",
      "2/2 - 0s - loss: 2.2952e-04 - accuracy: 1.0000 - val_loss: 1.0251e-05 - val_accuracy: 1.0000 - 46ms/epoch - 23ms/step\n",
      "Epoch 26/50\n",
      "2/2 - 0s - loss: 2.4885e-04 - accuracy: 1.0000 - val_loss: 6.5846e-06 - val_accuracy: 1.0000 - 50ms/epoch - 25ms/step\n",
      "Epoch 27/50\n",
      "2/2 - 0s - loss: 2.6606e-04 - accuracy: 1.0000 - val_loss: 4.8987e-06 - val_accuracy: 1.0000 - 52ms/epoch - 26ms/step\n",
      "Epoch 28/50\n",
      "2/2 - 0s - loss: 3.7099e-04 - accuracy: 1.0000 - val_loss: 4.1022e-06 - val_accuracy: 1.0000 - 46ms/epoch - 23ms/step\n",
      "Epoch 29/50\n",
      "2/2 - 0s - loss: 4.7256e-04 - accuracy: 1.0000 - val_loss: 3.7304e-06 - val_accuracy: 1.0000 - 50ms/epoch - 25ms/step\n",
      "Epoch 30/50\n",
      "2/2 - 0s - loss: 5.4291e-04 - accuracy: 1.0000 - val_loss: 3.5384e-06 - val_accuracy: 1.0000 - 49ms/epoch - 24ms/step\n",
      "Epoch 31/50\n",
      "2/2 - 0s - loss: 5.7267e-04 - accuracy: 1.0000 - val_loss: 3.4061e-06 - val_accuracy: 1.0000 - 53ms/epoch - 27ms/step\n",
      "Epoch 32/50\n",
      "2/2 - 0s - loss: 5.6762e-04 - accuracy: 1.0000 - val_loss: 3.2907e-06 - val_accuracy: 1.0000 - 47ms/epoch - 23ms/step\n",
      "Epoch 33/50\n",
      "2/2 - 0s - loss: 5.2543e-04 - accuracy: 1.0000 - val_loss: 3.1887e-06 - val_accuracy: 1.0000 - 52ms/epoch - 26ms/step\n",
      "Epoch 34/50\n",
      "2/2 - 0s - loss: 4.8515e-04 - accuracy: 1.0000 - val_loss: 3.0997e-06 - val_accuracy: 1.0000 - 49ms/epoch - 24ms/step\n",
      "Epoch 35/50\n",
      "2/2 - 0s - loss: 4.0496e-04 - accuracy: 1.0000 - val_loss: 3.0325e-06 - val_accuracy: 1.0000 - 49ms/epoch - 24ms/step\n",
      "Epoch 36/50\n",
      "2/2 - 0s - loss: 3.4245e-04 - accuracy: 1.0000 - val_loss: 2.9975e-06 - val_accuracy: 1.0000 - 47ms/epoch - 23ms/step\n",
      "Epoch 37/50\n",
      "2/2 - 0s - loss: 2.9736e-04 - accuracy: 1.0000 - val_loss: 3.0092e-06 - val_accuracy: 1.0000 - 28ms/epoch - 14ms/step\n",
      "Epoch 38/50\n",
      "2/2 - 0s - loss: 2.4496e-04 - accuracy: 1.0000 - val_loss: 3.0633e-06 - val_accuracy: 1.0000 - 28ms/epoch - 14ms/step\n",
      "Epoch 39/50\n",
      "2/2 - 0s - loss: 1.9463e-04 - accuracy: 1.0000 - val_loss: 3.1540e-06 - val_accuracy: 1.0000 - 30ms/epoch - 15ms/step\n",
      "Epoch 40/50\n",
      "2/2 - 0s - loss: 1.7870e-04 - accuracy: 1.0000 - val_loss: 3.2787e-06 - val_accuracy: 1.0000 - 29ms/epoch - 14ms/step\n",
      "Epoch 41/50\n",
      "2/2 - 0s - loss: 1.4637e-04 - accuracy: 1.0000 - val_loss: 3.4167e-06 - val_accuracy: 1.0000 - 27ms/epoch - 14ms/step\n",
      "Epoch 42/50\n",
      "2/2 - 0s - loss: 1.3150e-04 - accuracy: 1.0000 - val_loss: 3.5686e-06 - val_accuracy: 1.0000 - 29ms/epoch - 14ms/step\n",
      "Epoch 43/50\n",
      "2/2 - 0s - loss: 1.2013e-04 - accuracy: 1.0000 - val_loss: 3.7224e-06 - val_accuracy: 1.0000 - 29ms/epoch - 15ms/step\n",
      "Epoch 44/50\n",
      "2/2 - 0s - loss: 1.0597e-04 - accuracy: 1.0000 - val_loss: 3.8706e-06 - val_accuracy: 1.0000 - 29ms/epoch - 15ms/step\n",
      "Epoch 45/50\n",
      "2/2 - 0s - loss: 9.8591e-05 - accuracy: 1.0000 - val_loss: 4.0208e-06 - val_accuracy: 1.0000 - 28ms/epoch - 14ms/step\n",
      "Epoch 46/50\n",
      "2/2 - 0s - loss: 9.5204e-05 - accuracy: 1.0000 - val_loss: 4.1660e-06 - val_accuracy: 1.0000 - 27ms/epoch - 13ms/step\n",
      "Epoch 47/50\n",
      "2/2 - 0s - loss: 9.0199e-05 - accuracy: 1.0000 - val_loss: 4.2942e-06 - val_accuracy: 1.0000 - 28ms/epoch - 14ms/step\n",
      "Epoch 48/50\n",
      "2/2 - 0s - loss: 8.6196e-05 - accuracy: 1.0000 - val_loss: 4.4125e-06 - val_accuracy: 1.0000 - 28ms/epoch - 14ms/step\n",
      "Epoch 49/50\n",
      "2/2 - 0s - loss: 8.3297e-05 - accuracy: 1.0000 - val_loss: 4.5147e-06 - val_accuracy: 1.0000 - 27ms/epoch - 14ms/step\n",
      "Epoch 50/50\n",
      "2/2 - 0s - loss: 8.1223e-05 - accuracy: 1.0000 - val_loss: 4.6010e-06 - val_accuracy: 1.0000 - 27ms/epoch - 14ms/step\n"
     ]
    }
   ],
   "source": [
    "history_id = identity_model.fit(x=X_train,y=y_train,epochs=50,validation_split=0.1,verbose=2,callbacks=[checkpoint])"
   ]
  },
  {
   "cell_type": "code",
   "execution_count": null,
   "metadata": {},
   "outputs": [
    {
     "data": {
      "image/png": "[encoded data removed]",
      "text/plain": [
       "<Figure size 432x288 with 1 Axes>"
      ]
     },
     "metadata": {
      "needs_background": "light"
     },
     "output_type": "display_data"
    }
   ],
   "source": [
    "plot_loss(history_id)"
   ]
  },
  {
   "cell_type": "code",
   "execution_count": null,
   "metadata": {},
   "outputs": [
    {
     "name": "stdout",
     "output_type": "stream",
     "text": [
      "1/1 [==============================] - 0s 21ms/step\n"
     ]
    }
   ],
   "source": [
    "y_pred = identity_model.predict(X_test)\n",
    "y_pred = y_pred.round()"
   ]
  },
  {
   "cell_type": "code",
   "execution_count": null,
   "metadata": {},
   "outputs": [
    {
     "name": "stdout",
     "output_type": "stream",
     "text": [
      "Accuracy: 1.0\n",
      "Classwise Classification Report: \n",
      "              precision    recall  f1-score   support\n",
      "\n",
      "           0       1.00      1.00      1.00         6\n",
      "           1       1.00      1.00      1.00         7\n",
      "\n",
      "    accuracy                           1.00        13\n",
      "   macro avg       1.00      1.00      1.00        13\n",
      "weighted avg       1.00      1.00      1.00        13\n",
      "\n",
      "\n",
      "Confusion Matrix: \n"
     ]
    },
    {
     "data": {
      "image/png": "[encoded data removed]",
      "text/plain": [
       "<Figure size 432x288 with 2 Axes>"
      ]
     },
     "metadata": {
      "needs_background": "light"
     },
     "output_type": "display_data"
    }
   ],
   "source": [
    "print(f\"Accuracy: {accuracy_score(y_test, y_pred)}\")\n",
    "print(f\"Classwise Classification Report: \\n{classification_report(y_test, y_pred)}\")\n",
    "con_matrix = confusion_matrix(np.ravel(y_test), y_pred)\n",
    "print(\"\\nConfusion Matrix: \")\n",
    "con_matrix = ConfusionMatrixDisplay(con_matrix)\n",
    "con_matrix.plot()\n",
    "plt.show()"
   ]
  },
  {
   "attachments": {},
   "cell_type": "markdown",
   "metadata": {},
   "source": [
    "<h1 style='text-align:center'>Emotions</h1>"
   ]
  },
  {
   "cell_type": "code",
   "execution_count": 22,
   "metadata": {},
   "outputs": [],
   "source": [
    "def load_compile_model_emotions(input_shape=(3072,)):\n",
    "    img_inputs_layer = keras.Input(shape=input_shape)\n",
    "\n",
    "    hidden_layer = layers.Dense(128,activation='relu')(img_inputs_layer) \n",
    "\n",
    "    hidden_layer_2 = layers.Dense(64,activation='relu')(hidden_layer)\n",
    "    \n",
    "    \n",
    "    output = layers.Dense(1,activation='sigmoid',bias_initializer='ones')(hidden_layer_2)\n",
    "\n",
    "\n",
    "    # Create the model\n",
    "    model = tf.keras.models.Model(inputs=img_inputs_layer, outputs=output)\n",
    "    \n",
    "    # Compile the model\n",
    "    model.compile(optimizer=tf.keras.optimizers.Adam(learning_rate=0.01), loss=tf.keras.losses.BinaryCrossentropy(), metrics=['accuracy'])\n",
    "\n",
    "    return model\n"
   ]
  },
  {
   "cell_type": "code",
   "execution_count": 23,
   "metadata": {},
   "outputs": [],
   "source": [
    "X = feature_matrix\n",
    "y = df['Facial Expression']"
   ]
  },
  {
   "cell_type": "code",
   "execution_count": 24,
   "metadata": {},
   "outputs": [],
   "source": [
    "X_train,X_test,y_train,y_test = train_test_split(X,y,test_size=0.2,stratify=y,random_state=32)"
   ]
  },
  {
   "cell_type": "code",
   "execution_count": 25,
   "metadata": {},
   "outputs": [
    {
     "name": "stdout",
     "output_type": "stream",
     "text": [
      "Model: \"model_1\"\n",
      "_________________________________________________________________\n",
      " Layer (type)                Output Shape              Param #   \n",
      "=================================================================\n",
      " input_4 (InputLayer)        [(None, 3072)]            0         \n",
      "                                                                 \n",
      " dense_7 (Dense)             (None, 128)               393344    \n",
      "                                                                 \n",
      " dense_8 (Dense)             (None, 64)                8256      \n",
      "                                                                 \n",
      " dense_9 (Dense)             (None, 1)                 65        \n",
      "                                                                 \n",
      "=================================================================\n",
      "Total params: 401,665\n",
      "Trainable params: 401,665\n",
      "Non-trainable params: 0\n",
      "_________________________________________________________________\n"
     ]
    }
   ],
   "source": [
    "em_model = load_compile_model_emotions()\n",
    "em_model.summary()"
   ]
  },
  {
   "cell_type": "code",
   "execution_count": 26,
   "metadata": {},
   "outputs": [],
   "source": [
    "# Define the checkpoint path\n",
    "checkpoint_path = \"model_checkpoint_em.h5\"\n",
    "checkpoint = tf.keras.callbacks.ModelCheckpoint(checkpoint_path, save_best_only=True)"
   ]
  },
  {
   "cell_type": "code",
   "execution_count": 27,
   "metadata": {},
   "outputs": [
    {
     "name": "stdout",
     "output_type": "stream",
     "text": [
      "Epoch 1/50\n",
      "2/2 - 0s - loss: 4.7712 - accuracy: 0.5349 - val_loss: 8.1948 - val_accuracy: 0.4000 - 500ms/epoch - 250ms/step\n",
      "Epoch 2/50\n",
      "2/2 - 0s - loss: 6.4441 - accuracy: 0.5116 - val_loss: 7.4631 - val_accuracy: 0.6000 - 62ms/epoch - 31ms/step\n",
      "Epoch 3/50\n",
      "2/2 - 0s - loss: 8.2296 - accuracy: 0.4884 - val_loss: 2.0480 - val_accuracy: 0.6000 - 56ms/epoch - 28ms/step\n",
      "Epoch 4/50\n",
      "2/2 - 0s - loss: 3.1958 - accuracy: 0.4651 - val_loss: 7.7601 - val_accuracy: 0.4000 - 39ms/epoch - 19ms/step\n",
      "Epoch 5/50\n",
      "2/2 - 0s - loss: 6.7170 - accuracy: 0.5116 - val_loss: 3.0145 - val_accuracy: 0.4000 - 33ms/epoch - 16ms/step\n",
      "Epoch 6/50\n",
      "2/2 - 0s - loss: 2.0051 - accuracy: 0.5349 - val_loss: 1.9528 - val_accuracy: 0.6000 - 64ms/epoch - 32ms/step\n",
      "Epoch 7/50\n",
      "2/2 - 0s - loss: 1.9771 - accuracy: 0.4884 - val_loss: 1.4261 - val_accuracy: 0.6000 - 61ms/epoch - 30ms/step\n",
      "Epoch 8/50\n",
      "2/2 - 0s - loss: 1.0859 - accuracy: 0.5349 - val_loss: 1.7610 - val_accuracy: 0.4000 - 33ms/epoch - 16ms/step\n",
      "Epoch 9/50\n",
      "2/2 - 0s - loss: 1.3489 - accuracy: 0.5116 - val_loss: 1.4284 - val_accuracy: 0.4000 - 34ms/epoch - 17ms/step\n",
      "Epoch 10/50\n",
      "2/2 - 0s - loss: 0.8143 - accuracy: 0.6047 - val_loss: 1.1386 - val_accuracy: 0.6000 - 95ms/epoch - 48ms/step\n",
      "Epoch 11/50\n",
      "2/2 - 0s - loss: 0.8173 - accuracy: 0.5116 - val_loss: 1.0347 - val_accuracy: 0.2000 - 68ms/epoch - 34ms/step\n",
      "Epoch 12/50\n",
      "2/2 - 0s - loss: 0.7294 - accuracy: 0.5814 - val_loss: 1.0389 - val_accuracy: 0.4000 - 48ms/epoch - 24ms/step\n",
      "Epoch 13/50\n",
      "2/2 - 0s - loss: 0.6862 - accuracy: 0.5349 - val_loss: 0.9965 - val_accuracy: 0.2000 - 67ms/epoch - 34ms/step\n",
      "Epoch 14/50\n",
      "2/2 - 0s - loss: 0.5955 - accuracy: 0.6512 - val_loss: 1.0668 - val_accuracy: 0.2000 - 36ms/epoch - 18ms/step\n",
      "Epoch 15/50\n",
      "2/2 - 0s - loss: 0.7188 - accuracy: 0.5116 - val_loss: 1.0263 - val_accuracy: 0.4000 - 34ms/epoch - 17ms/step\n",
      "Epoch 16/50\n",
      "2/2 - 0s - loss: 0.6151 - accuracy: 0.6047 - val_loss: 1.3258 - val_accuracy: 0.4000 - 37ms/epoch - 19ms/step\n",
      "Epoch 17/50\n",
      "2/2 - 0s - loss: 0.7639 - accuracy: 0.5349 - val_loss: 1.1313 - val_accuracy: 0.2000 - 36ms/epoch - 18ms/step\n",
      "Epoch 18/50\n",
      "2/2 - 0s - loss: 0.6167 - accuracy: 0.6279 - val_loss: 1.2072 - val_accuracy: 0.2000 - 33ms/epoch - 16ms/step\n",
      "Epoch 19/50\n",
      "2/2 - 0s - loss: 0.6020 - accuracy: 0.7209 - val_loss: 1.1977 - val_accuracy: 0.4000 - 36ms/epoch - 18ms/step\n",
      "Epoch 20/50\n",
      "2/2 - 0s - loss: 0.5742 - accuracy: 0.6512 - val_loss: 1.1925 - val_accuracy: 0.4000 - 33ms/epoch - 16ms/step\n",
      "Epoch 21/50\n",
      "2/2 - 0s - loss: 0.5857 - accuracy: 0.6744 - val_loss: 1.2106 - val_accuracy: 0.4000 - 30ms/epoch - 15ms/step\n",
      "Epoch 22/50\n",
      "2/2 - 0s - loss: 0.5293 - accuracy: 0.7442 - val_loss: 1.2288 - val_accuracy: 0.4000 - 30ms/epoch - 15ms/step\n",
      "Epoch 23/50\n",
      "2/2 - 0s - loss: 0.5509 - accuracy: 0.7442 - val_loss: 1.2208 - val_accuracy: 0.4000 - 38ms/epoch - 19ms/step\n",
      "Epoch 24/50\n",
      "2/2 - 0s - loss: 0.5172 - accuracy: 0.7907 - val_loss: 1.2083 - val_accuracy: 0.4000 - 32ms/epoch - 16ms/step\n",
      "Epoch 25/50\n",
      "2/2 - 0s - loss: 0.4973 - accuracy: 0.8140 - val_loss: 1.1727 - val_accuracy: 0.4000 - 29ms/epoch - 15ms/step\n",
      "Epoch 26/50\n",
      "2/2 - 0s - loss: 0.4786 - accuracy: 0.7674 - val_loss: 1.1799 - val_accuracy: 0.4000 - 31ms/epoch - 15ms/step\n",
      "Epoch 27/50\n",
      "2/2 - 0s - loss: 0.4863 - accuracy: 0.7209 - val_loss: 1.1999 - val_accuracy: 0.4000 - 31ms/epoch - 15ms/step\n",
      "Epoch 28/50\n",
      "2/2 - 0s - loss: 0.4654 - accuracy: 0.8140 - val_loss: 1.2264 - val_accuracy: 0.4000 - 48ms/epoch - 24ms/step\n",
      "Epoch 29/50\n",
      "2/2 - 0s - loss: 0.4444 - accuracy: 0.7907 - val_loss: 1.2590 - val_accuracy: 0.4000 - 30ms/epoch - 15ms/step\n",
      "Epoch 30/50\n",
      "2/2 - 0s - loss: 0.4376 - accuracy: 0.7674 - val_loss: 1.3196 - val_accuracy: 0.2000 - 34ms/epoch - 17ms/step\n",
      "Epoch 31/50\n",
      "2/2 - 0s - loss: 0.4273 - accuracy: 0.8837 - val_loss: 1.4005 - val_accuracy: 0.2000 - 31ms/epoch - 15ms/step\n",
      "Epoch 32/50\n",
      "2/2 - 0s - loss: 0.4213 - accuracy: 0.8140 - val_loss: 1.3860 - val_accuracy: 0.4000 - 73ms/epoch - 36ms/step\n",
      "Epoch 33/50\n",
      "2/2 - 0s - loss: 0.4847 - accuracy: 0.7674 - val_loss: 1.3958 - val_accuracy: 0.4000 - 38ms/epoch - 19ms/step\n",
      "Epoch 34/50\n",
      "2/2 - 0s - loss: 0.3478 - accuracy: 0.9070 - val_loss: 1.5730 - val_accuracy: 0.2000 - 32ms/epoch - 16ms/step\n",
      "Epoch 35/50\n",
      "2/2 - 0s - loss: 0.5517 - accuracy: 0.6512 - val_loss: 1.3843 - val_accuracy: 0.2000 - 28ms/epoch - 14ms/step\n",
      "Epoch 36/50\n",
      "2/2 - 0s - loss: 0.3690 - accuracy: 0.9070 - val_loss: 1.4195 - val_accuracy: 0.6000 - 32ms/epoch - 16ms/step\n",
      "Epoch 37/50\n",
      "2/2 - 0s - loss: 0.4652 - accuracy: 0.7209 - val_loss: 1.5009 - val_accuracy: 0.2000 - 30ms/epoch - 15ms/step\n",
      "Epoch 38/50\n",
      "2/2 - 0s - loss: 0.3510 - accuracy: 0.8372 - val_loss: 1.5428 - val_accuracy: 0.2000 - 33ms/epoch - 16ms/step\n",
      "Epoch 39/50\n",
      "2/2 - 0s - loss: 0.3573 - accuracy: 0.8140 - val_loss: 1.5017 - val_accuracy: 0.4000 - 35ms/epoch - 17ms/step\n",
      "Epoch 40/50\n",
      "2/2 - 0s - loss: 0.2845 - accuracy: 0.9535 - val_loss: 1.6153 - val_accuracy: 0.2000 - 34ms/epoch - 17ms/step\n",
      "Epoch 41/50\n",
      "2/2 - 0s - loss: 0.3128 - accuracy: 0.8837 - val_loss: 1.5681 - val_accuracy: 0.4000 - 28ms/epoch - 14ms/step\n",
      "Epoch 42/50\n",
      "2/2 - 0s - loss: 0.3148 - accuracy: 0.8140 - val_loss: 1.6041 - val_accuracy: 0.4000 - 35ms/epoch - 17ms/step\n",
      "Epoch 43/50\n",
      "2/2 - 0s - loss: 0.2926 - accuracy: 0.8605 - val_loss: 1.9562 - val_accuracy: 0.2000 - 31ms/epoch - 15ms/step\n",
      "Epoch 44/50\n",
      "2/2 - 0s - loss: 0.4355 - accuracy: 0.8140 - val_loss: 1.8411 - val_accuracy: 0.2000 - 30ms/epoch - 15ms/step\n",
      "Epoch 45/50\n",
      "2/2 - 0s - loss: 0.3168 - accuracy: 0.9070 - val_loss: 1.6870 - val_accuracy: 0.6000 - 29ms/epoch - 15ms/step\n",
      "Epoch 46/50\n",
      "2/2 - 0s - loss: 0.3217 - accuracy: 0.8372 - val_loss: 2.1699 - val_accuracy: 0.2000 - 30ms/epoch - 15ms/step\n",
      "Epoch 47/50\n",
      "2/2 - 0s - loss: 0.4592 - accuracy: 0.7209 - val_loss: 1.8701 - val_accuracy: 0.2000 - 32ms/epoch - 16ms/step\n",
      "Epoch 48/50\n",
      "2/2 - 0s - loss: 0.2504 - accuracy: 0.9302 - val_loss: 1.8457 - val_accuracy: 0.6000 - 27ms/epoch - 13ms/step\n",
      "Epoch 49/50\n",
      "2/2 - 0s - loss: 0.3931 - accuracy: 0.8140 - val_loss: 1.9573 - val_accuracy: 0.2000 - 34ms/epoch - 17ms/step\n",
      "Epoch 50/50\n",
      "2/2 - 0s - loss: 0.2762 - accuracy: 0.8372 - val_loss: 2.0137 - val_accuracy: 0.2000 - 63ms/epoch - 32ms/step\n"
     ]
    }
   ],
   "source": [
    "history_em = em_model.fit(x=X_train,y=y_train,epochs=50,validation_split=0.1,verbose=2,callbacks=[checkpoint])\n"
   ]
  },
  {
   "cell_type": "code",
   "execution_count": 28,
   "metadata": {},
   "outputs": [
    {
     "data": {
      "image/png": "[encoded data removed]",
      "text/plain": [
       "<Figure size 432x288 with 1 Axes>"
      ]
     },
     "metadata": {
      "needs_background": "light"
     },
     "output_type": "display_data"
    }
   ],
   "source": [
    "plot_loss(history_em)"
   ]
  },
  {
   "cell_type": "code",
   "execution_count": 29,
   "metadata": {},
   "outputs": [
    {
     "name": "stdout",
     "output_type": "stream",
     "text": [
      "1/1 [==============================] - 0s 44ms/step\n"
     ]
    }
   ],
   "source": [
    "y_pred = em_model.predict(X_test)\n",
    "y_pred = y_pred.round()"
   ]
  },
  {
   "cell_type": "code",
   "execution_count": 30,
   "metadata": {},
   "outputs": [
    {
     "name": "stdout",
     "output_type": "stream",
     "text": [
      "Accuracy: 0.46153846153846156\n",
      "Classwise Classification Report: \n",
      "              precision    recall  f1-score   support\n",
      "\n",
      "           0       0.50      0.29      0.36         7\n",
      "           1       0.44      0.67      0.53         6\n",
      "\n",
      "    accuracy                           0.46        13\n",
      "   macro avg       0.47      0.48      0.45        13\n",
      "weighted avg       0.47      0.46      0.44        13\n",
      "\n",
      "\n",
      "Confusion Matrix: \n"
     ]
    },
    {
     "data": {
      "image/png": "[encoded data removed]",
      "text/plain": [
       "<Figure size 432x288 with 2 Axes>"
      ]
     },
     "metadata": {
      "needs_background": "light"
     },
     "output_type": "display_data"
    }
   ],
   "source": [
    "print(f\"Accuracy: {accuracy_score(y_test, y_pred)}\")\n",
    "print(f\"Classwise Classification Report: \\n{classification_report(y_test, y_pred)}\")\n",
    "con_matrix = confusion_matrix(np.ravel(y_test), y_pred)\n",
    "print(\"\\nConfusion Matrix: \")\n",
    "con_matrix = ConfusionMatrixDisplay(con_matrix)\n",
    "con_matrix.plot()\n",
    "plt.show()"
   ]
  }
 ],
 "metadata": {
  "kernelspec": {
   "display_name": "Python 3",
   "language": "python",
   "name": "python3"
  },
  "language_info": {
   "codemirror_mode": {
    "name": "ipython",
    "version": 3
   },
   "file_extension": ".py",
   "mimetype": "text/x-python",
   "name": "python",
   "nbconvert_exporter": "python",
   "pygments_lexer": "ipython3",
   "version": "3.8.3"
  },
  "orig_nbformat": 4
 },
 "nbformat": 4,
 "nbformat_minor": 2
}
