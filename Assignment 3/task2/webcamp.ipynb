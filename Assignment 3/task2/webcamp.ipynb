{
 "cells": [
  {
   "cell_type": "code",
   "execution_count": 7,
   "metadata": {},
   "outputs": [],
   "source": [
    "import pickle as pkl\n",
    "import numpy as np\n",
    "import cv2"
   ]
  },
  {
   "attachments": {},
   "cell_type": "markdown",
   "metadata": {},
   "source": [
    "<h1 style='text-align:center'>Loading Models</h1>"
   ]
  },
  {
   "cell_type": "code",
   "execution_count": 8,
   "metadata": {},
   "outputs": [],
   "source": [
    "sgd_model_file_path = '../task1/SGF_Linear_Reg_Images_my_data.sav'\n",
    "identity_model_file_path = './LOG_Identity_Images_my_data.sav'\n",
    "scaler = '../../Assignment 1/task1/scaler.sav'"
   ]
  },
  {
   "cell_type": "code",
   "execution_count": 9,
   "metadata": {},
   "outputs": [],
   "source": [
    "sgd_model = pkl.load(open(sgd_model_file_path,'rb'))\n",
    "identity_model = pkl.load(open(identity_model_file_path,'rb'))\n",
    "scaler = pkl.load(open(scaler,'rb'))"
   ]
  },
  {
   "cell_type": "code",
   "execution_count": 10,
   "metadata": {},
   "outputs": [],
   "source": [
    "models = [sgd_model,identity_model]"
   ]
  },
  {
   "attachments": {},
   "cell_type": "markdown",
   "metadata": {},
   "source": [
    "<h1 style='text-align:center'>Webcam app</h1>"
   ]
  },
  {
   "cell_type": "code",
   "execution_count": 11,
   "metadata": {},
   "outputs": [],
   "source": [
    "def App(models):\n",
    "    try:\n",
    "        vidcap = cv2.VideoCapture(0)\n",
    "        font = cv2.FONT_HERSHEY_SIMPLEX\n",
    "        thickness = 2\n",
    "        font_scale = 1\n",
    "        if vidcap.isOpened():\n",
    "            while True:\n",
    "                ret, frame = vidcap.read()\n",
    "                if ret:\n",
    "                    frame_copy = np.array([cv2.resize(frame,(32,32)).flatten()])\n",
    "                    frame_copy = scaler.transform(frame_copy)\n",
    "                    age_sgd = round(models[0].predict(frame_copy)[0])\n",
    "                    prob = models[1].predict_proba(frame_copy)[0][0]\n",
    "                    identity = models[1].predict(frame_copy)[0]\n",
    "                    cv2.putText(frame,str(age_sgd),(0,440),font,font_scale, (255, 0, 0), thickness, cv2.LINE_AA)\n",
    "                    cv2.putText(frame,identity,(500,300),font,font_scale, (0, 0, 255), thickness, cv2.LINE_AA)\n",
    "                    cv2.putText(frame,str(prob),(500,350),font,font_scale, (0, 0, 255), thickness, cv2.LINE_AA)\n",
    "                    cv2.imshow('Frame', frame)\n",
    "                else:\n",
    "                    print(\"Frame not captured\")\n",
    "                if cv2.waitKey(5) & 0xFF==ord('q'):\n",
    "                    break\n",
    "        else:\n",
    "            print(\"Video is not working\")\n",
    "        vidcap.release()\n",
    "        cv2.destroyAllWindows() \n",
    "    except Exception as e:\n",
    "        print(e)"
   ]
  },
  {
   "cell_type": "code",
   "execution_count": 12,
   "metadata": {},
   "outputs": [],
   "source": [
    "App(models)"
   ]
  }
 ],
 "metadata": {
  "kernelspec": {
   "display_name": "Python 3",
   "language": "python",
   "name": "python3"
  },
  "language_info": {
   "codemirror_mode": {
    "name": "ipython",
    "version": 3
   },
   "file_extension": ".py",
   "mimetype": "text/x-python",
   "name": "python",
   "nbconvert_exporter": "python",
   "pygments_lexer": "ipython3",
   "version": "3.8.3"
  },
  "orig_nbformat": 4
 },
 "nbformat": 4,
 "nbformat_minor": 2
}
