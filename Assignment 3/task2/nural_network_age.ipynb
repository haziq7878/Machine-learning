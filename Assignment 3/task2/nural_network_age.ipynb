{
 "cells": [
  {
   "cell_type": "code",
   "execution_count": 1,
   "metadata": {},
   "outputs": [],
   "source": [
    "import pandas as pd\n",
    "import numpy as np\n",
    "import pickle as pkl\n",
    "import tensorflow as tf\n",
    "from tensorflow import keras\n",
    "from tensorflow.keras import layers\n",
    "from sklearn.model_selection import train_test_split\n",
    "from sklearn.preprocessing import MinMaxScaler\n",
    "import matplotlib.pyplot as plt"
   ]
  },
  {
   "cell_type": "code",
   "execution_count": 2,
   "metadata": {},
   "outputs": [],
   "source": [
    "df = pd.read_csv('../../Datasets/Assignment 3/Ages.csv')\n",
    "images = pkl.load(open('../../Datasets/Assignment 3/Compressed_images/Compressed_data_age_1','rb')) "
   ]
  },
  {
   "cell_type": "code",
   "execution_count": 3,
   "metadata": {},
   "outputs": [],
   "source": [
    "scaler = MinMaxScaler()\n",
    "y = scaler.fit_transform(df['Age'].to_numpy().reshape(-1, 1))"
   ]
  },
  {
   "cell_type": "code",
   "execution_count": 4,
   "metadata": {},
   "outputs": [
    {
     "data": {
      "text/plain": [
       "array([[0.86086957],\n",
       "       [0.86086957],\n",
       "       [0.86086957],\n",
       "       ...,\n",
       "       [0.06956522],\n",
       "       [0.06956522],\n",
       "       [0.06956522]])"
      ]
     },
     "execution_count": 4,
     "metadata": {},
     "output_type": "execute_result"
    }
   ],
   "source": [
    "y"
   ]
  },
  {
   "cell_type": "code",
   "execution_count": 5,
   "metadata": {},
   "outputs": [],
   "source": [
    "X_train,X_test,y_train,y_test = train_test_split(images,y,random_state=32)"
   ]
  },
  {
   "cell_type": "code",
   "execution_count": 13,
   "metadata": {},
   "outputs": [],
   "source": [
    "def load_compile_model(input_shape=(3072,)):\n",
    "    img_inputs_layer = keras.Input(shape=input_shape)\n",
    "\n",
    "    output = layers.Dense(1)(img_inputs_layer)\n",
    "\n",
    "    # Create the model\n",
    "    model = tf.keras.models.Model(inputs=img_inputs_layer, outputs=output)\n",
    "    \n",
    "    # Compile the model\n",
    "    model.compile(optimizer=tf.keras.optimizers.Adam(learning_rate=0.01), loss='mse', metrics=[\"accuracy\"])\n",
    "\n",
    "    return model"
   ]
  },
  {
   "cell_type": "code",
   "execution_count": 14,
   "metadata": {},
   "outputs": [],
   "source": [
    "model = load_compile_model()"
   ]
  },
  {
   "cell_type": "code",
   "execution_count": 15,
   "metadata": {},
   "outputs": [
    {
     "name": "stdout",
     "output_type": "stream",
     "text": [
      "Model: \"model_1\"\n",
      "_________________________________________________________________\n",
      " Layer (type)                Output Shape              Param #   \n",
      "=================================================================\n",
      " input_2 (InputLayer)        [(None, 3072)]            0         \n",
      "                                                                 \n",
      " dense_1 (Dense)             (None, 1)                 3073      \n",
      "                                                                 \n",
      "=================================================================\n",
      "Total params: 3,073\n",
      "Trainable params: 3,073\n",
      "Non-trainable params: 0\n",
      "_________________________________________________________________\n"
     ]
    }
   ],
   "source": [
    "model.summary()"
   ]
  },
  {
   "cell_type": "code",
   "execution_count": 16,
   "metadata": {},
   "outputs": [],
   "source": [
    "if \n",
    "model.load_weights('model_checkpoint.h5')"
   ]
  },
  {
   "cell_type": "code",
   "execution_count": 17,
   "metadata": {},
   "outputs": [],
   "source": [
    "# Define the checkpoint path\n",
    "checkpoint_path = \"model_checkpoint.h5\"\n",
    "checkpoint = tf.keras.callbacks.ModelCheckpoint(checkpoint_path, save_best_only=True)"
   ]
  },
  {
   "cell_type": "code",
   "execution_count": 18,
   "metadata": {},
   "outputs": [
    {
     "name": "stdout",
     "output_type": "stream",
     "text": [
      "Epoch 1/50\n",
      "501/501 - 1s - loss: 0.5072 - accuracy: 0.0437 - val_loss: 0.0435 - val_accuracy: 0.0562 - 962ms/epoch - 2ms/step\n",
      "Epoch 2/50\n",
      "501/501 - 1s - loss: 0.1465 - accuracy: 0.0379 - val_loss: 0.2172 - val_accuracy: 0.0163 - 608ms/epoch - 1ms/step\n",
      "Epoch 3/50\n",
      "501/501 - 1s - loss: 0.4377 - accuracy: 0.0371 - val_loss: 1.5959 - val_accuracy: 0.0022 - 580ms/epoch - 1ms/step\n",
      "Epoch 4/50\n",
      "501/501 - 1s - loss: 0.1297 - accuracy: 0.0407 - val_loss: 0.0551 - val_accuracy: 0.0534 - 618ms/epoch - 1ms/step\n",
      "Epoch 5/50\n",
      "501/501 - 1s - loss: 0.2891 - accuracy: 0.0363 - val_loss: 0.2038 - val_accuracy: 0.0096 - 527ms/epoch - 1ms/step\n",
      "Epoch 6/50\n",
      "501/501 - 1s - loss: 0.2826 - accuracy: 0.0379 - val_loss: 0.0933 - val_accuracy: 0.0579 - 544ms/epoch - 1ms/step\n",
      "Epoch 7/50\n",
      "501/501 - 1s - loss: 0.2943 - accuracy: 0.0390 - val_loss: 0.0693 - val_accuracy: 0.0551 - 549ms/epoch - 1ms/step\n",
      "Epoch 8/50\n",
      "501/501 - 1s - loss: 0.1742 - accuracy: 0.0401 - val_loss: 0.4172 - val_accuracy: 0.0034 - 551ms/epoch - 1ms/step\n",
      "Epoch 9/50\n",
      "501/501 - 1s - loss: 0.2595 - accuracy: 0.0396 - val_loss: 0.1088 - val_accuracy: 0.0298 - 538ms/epoch - 1ms/step\n",
      "Epoch 10/50\n",
      "501/501 - 1s - loss: 0.3082 - accuracy: 0.0364 - val_loss: 1.0176 - val_accuracy: 0.0579 - 528ms/epoch - 1ms/step\n",
      "Epoch 11/50\n",
      "501/501 - 1s - loss: 0.3102 - accuracy: 0.0404 - val_loss: 6.8838 - val_accuracy: 0.0000e+00 - 528ms/epoch - 1ms/step\n",
      "Epoch 12/50\n",
      "501/501 - 1s - loss: 0.1918 - accuracy: 0.0396 - val_loss: 0.5298 - val_accuracy: 0.0028 - 605ms/epoch - 1ms/step\n",
      "Epoch 13/50\n",
      "501/501 - 1s - loss: 0.3948 - accuracy: 0.0360 - val_loss: 0.0252 - val_accuracy: 0.0579 - 602ms/epoch - 1ms/step\n",
      "Epoch 14/50\n",
      "501/501 - 1s - loss: 0.2759 - accuracy: 0.0388 - val_loss: 0.0310 - val_accuracy: 0.0573 - 647ms/epoch - 1ms/step\n",
      "Epoch 15/50\n",
      "501/501 - 1s - loss: 0.1192 - accuracy: 0.0406 - val_loss: 0.0467 - val_accuracy: 0.0551 - 545ms/epoch - 1ms/step\n",
      "Epoch 16/50\n",
      "501/501 - 1s - loss: 0.4328 - accuracy: 0.0349 - val_loss: 0.2072 - val_accuracy: 0.0579 - 560ms/epoch - 1ms/step\n",
      "Epoch 17/50\n",
      "501/501 - 1s - loss: 0.1577 - accuracy: 0.0395 - val_loss: 0.0909 - val_accuracy: 0.0500 - 524ms/epoch - 1ms/step\n",
      "Epoch 18/50\n",
      "501/501 - 1s - loss: 0.2250 - accuracy: 0.0394 - val_loss: 0.6593 - val_accuracy: 0.0011 - 534ms/epoch - 1ms/step\n",
      "Epoch 19/50\n",
      "501/501 - 1s - loss: 0.7080 - accuracy: 0.0416 - val_loss: 0.1921 - val_accuracy: 0.0579 - 513ms/epoch - 1ms/step\n",
      "Epoch 20/50\n",
      "501/501 - 1s - loss: 0.1150 - accuracy: 0.0413 - val_loss: 0.1034 - val_accuracy: 0.0579 - 643ms/epoch - 1ms/step\n",
      "Epoch 21/50\n",
      "501/501 - 1s - loss: 0.2178 - accuracy: 0.0395 - val_loss: 0.4077 - val_accuracy: 0.0304 - 504ms/epoch - 1ms/step\n",
      "Epoch 22/50\n",
      "501/501 - 1s - loss: 0.3422 - accuracy: 0.0342 - val_loss: 1.2300 - val_accuracy: 0.0579 - 569ms/epoch - 1ms/step\n",
      "Epoch 23/50\n",
      "501/501 - 1s - loss: 0.1337 - accuracy: 0.0399 - val_loss: 0.3061 - val_accuracy: 0.0067 - 562ms/epoch - 1ms/step\n",
      "Epoch 24/50\n",
      "501/501 - 1s - loss: 0.2971 - accuracy: 0.0364 - val_loss: 0.5659 - val_accuracy: 0.0579 - 516ms/epoch - 1ms/step\n",
      "Epoch 25/50\n",
      "501/501 - 0s - loss: 0.2244 - accuracy: 0.0366 - val_loss: 0.1200 - val_accuracy: 0.0264 - 492ms/epoch - 982us/step\n",
      "Epoch 26/50\n",
      "501/501 - 1s - loss: 0.3012 - accuracy: 0.0374 - val_loss: 0.9645 - val_accuracy: 0.0579 - 540ms/epoch - 1ms/step\n",
      "Epoch 27/50\n",
      "501/501 - 1s - loss: 0.2248 - accuracy: 0.0384 - val_loss: 0.0784 - val_accuracy: 0.0579 - 590ms/epoch - 1ms/step\n",
      "Epoch 28/50\n",
      "501/501 - 1s - loss: 0.2796 - accuracy: 0.0366 - val_loss: 0.1041 - val_accuracy: 0.0461 - 540ms/epoch - 1ms/step\n",
      "Epoch 29/50\n",
      "501/501 - 1s - loss: 0.5173 - accuracy: 0.0351 - val_loss: 0.4102 - val_accuracy: 0.0039 - 520ms/epoch - 1ms/step\n",
      "Epoch 30/50\n",
      "501/501 - 1s - loss: 0.1013 - accuracy: 0.0402 - val_loss: 0.1379 - val_accuracy: 0.0579 - 520ms/epoch - 1ms/step\n",
      "Epoch 31/50\n",
      "501/501 - 1s - loss: 0.1709 - accuracy: 0.0382 - val_loss: 0.9989 - val_accuracy: 0.0579 - 523ms/epoch - 1ms/step\n",
      "Epoch 32/50\n",
      "501/501 - 1s - loss: 0.2973 - accuracy: 0.0384 - val_loss: 0.0885 - val_accuracy: 0.0579 - 611ms/epoch - 1ms/step\n",
      "Epoch 33/50\n",
      "501/501 - 1s - loss: 0.3062 - accuracy: 0.0377 - val_loss: 0.7241 - val_accuracy: 0.0000e+00 - 599ms/epoch - 1ms/step\n",
      "Epoch 34/50\n",
      "501/501 - 1s - loss: 0.1551 - accuracy: 0.0380 - val_loss: 0.0992 - val_accuracy: 0.0534 - 548ms/epoch - 1ms/step\n",
      "Epoch 35/50\n",
      "501/501 - 1s - loss: 0.3327 - accuracy: 0.0362 - val_loss: 1.2792 - val_accuracy: 0.0000e+00 - 562ms/epoch - 1ms/step\n",
      "Epoch 36/50\n",
      "501/501 - 1s - loss: 0.2254 - accuracy: 0.0358 - val_loss: 1.1451 - val_accuracy: 0.0000e+00 - 540ms/epoch - 1ms/step\n",
      "Epoch 37/50\n",
      "501/501 - 1s - loss: 0.2887 - accuracy: 0.0357 - val_loss: 0.0282 - val_accuracy: 0.0579 - 548ms/epoch - 1ms/step\n",
      "Epoch 38/50\n",
      "501/501 - 1s - loss: 0.2698 - accuracy: 0.0356 - val_loss: 0.0634 - val_accuracy: 0.0556 - 519ms/epoch - 1ms/step\n",
      "Epoch 39/50\n",
      "501/501 - 1s - loss: 0.2475 - accuracy: 0.0386 - val_loss: 0.1824 - val_accuracy: 0.0579 - 521ms/epoch - 1ms/step\n",
      "Epoch 40/50\n",
      "501/501 - 1s - loss: 0.2057 - accuracy: 0.0387 - val_loss: 1.8576 - val_accuracy: 0.0000e+00 - 523ms/epoch - 1ms/step\n",
      "Epoch 41/50\n",
      "501/501 - 0s - loss: 0.3215 - accuracy: 0.0387 - val_loss: 0.2202 - val_accuracy: 0.0146 - 493ms/epoch - 985us/step\n",
      "Epoch 42/50\n",
      "501/501 - 1s - loss: 0.2224 - accuracy: 0.0380 - val_loss: 3.7289 - val_accuracy: 0.0000e+00 - 531ms/epoch - 1ms/step\n",
      "Epoch 43/50\n",
      "501/501 - 1s - loss: 0.2847 - accuracy: 0.0382 - val_loss: 0.0285 - val_accuracy: 0.0573 - 500ms/epoch - 998us/step\n",
      "Epoch 44/50\n",
      "501/501 - 1s - loss: 0.2606 - accuracy: 0.0388 - val_loss: 0.2022 - val_accuracy: 0.0579 - 516ms/epoch - 1ms/step\n",
      "Epoch 45/50\n",
      "501/501 - 1s - loss: 0.2107 - accuracy: 0.0381 - val_loss: 0.7292 - val_accuracy: 0.0579 - 531ms/epoch - 1ms/step\n",
      "Epoch 46/50\n",
      "501/501 - 1s - loss: 0.3307 - accuracy: 0.0371 - val_loss: 0.9055 - val_accuracy: 0.0579 - 531ms/epoch - 1ms/step\n",
      "Epoch 47/50\n",
      "501/501 - 1s - loss: 0.6983 - accuracy: 0.0402 - val_loss: 0.0942 - val_accuracy: 0.0579 - 531ms/epoch - 1ms/step\n",
      "Epoch 48/50\n",
      "501/501 - 1s - loss: 0.0709 - accuracy: 0.0431 - val_loss: 0.1207 - val_accuracy: 0.0579 - 547ms/epoch - 1ms/step\n",
      "Epoch 49/50\n",
      "501/501 - 1s - loss: 0.1655 - accuracy: 0.0392 - val_loss: 0.0361 - val_accuracy: 0.0579 - 531ms/epoch - 1ms/step\n",
      "Epoch 50/50\n",
      "501/501 - 1s - loss: 0.3024 - accuracy: 0.0385 - val_loss: 0.2944 - val_accuracy: 0.0579 - 500ms/epoch - 998us/step\n"
     ]
    }
   ],
   "source": [
    "history = model.fit(x=X_train,y=y_train,epochs=50,validation_split=0.1,verbose=2,callbacks=[checkpoint])"
   ]
  },
  {
   "cell_type": "code",
   "execution_count": 19,
   "metadata": {},
   "outputs": [],
   "source": [
    "def plot_loss(history):\n",
    "  plt.plot(history.history['loss'], label='loss')\n",
    "  plt.plot(history.history['val_loss'], label='val_loss')\n",
    "  plt.ylim([0, 10])\n",
    "  plt.xlabel('Epoch')\n",
    "  plt.ylabel('Error [MPG]')\n",
    "  plt.legend()\n",
    "  plt.grid(True)"
   ]
  },
  {
   "cell_type": "code",
   "execution_count": 20,
   "metadata": {},
   "outputs": [
    {
     "data": {
      "image/png": "[encoded data removed]",
      "text/plain": [
       "<Figure size 432x288 with 1 Axes>"
      ]
     },
     "metadata": {
      "needs_background": "light"
     },
     "output_type": "display_data"
    }
   ],
   "source": [
    "plot_loss(history)"
   ]
  }
 ],
 "metadata": {
  "kernelspec": {
   "display_name": "Python 3",
   "language": "python",
   "name": "python3"
  },
  "language_info": {
   "codemirror_mode": {
    "name": "ipython",
    "version": 3
   },
   "file_extension": ".py",
   "mimetype": "text/x-python",
   "name": "python",
   "nbconvert_exporter": "python",
   "pygments_lexer": "ipython3",
   "version": "3.8.3"
  },
  "orig_nbformat": 4
 },
 "nbformat": 4,
 "nbformat_minor": 2
}
