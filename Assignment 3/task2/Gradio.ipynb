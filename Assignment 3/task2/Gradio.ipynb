{
 "cells": [
  {
   "cell_type": "code",
   "execution_count": 4,
   "metadata": {},
   "outputs": [],
   "source": [
    "import gradio as gr\n",
    "import numpy as np\n",
    "import pickle as pkl\n",
    "import cv2"
   ]
  },
  {
   "cell_type": "code",
   "execution_count": 3,
   "metadata": {},
   "outputs": [],
   "source": [
    "identity_model_file_path = './LOG_Identity_Images_my_data.sav'\n",
    "scaler = '../../Assignment 1/task1/scaler.sav'"
   ]
  },
  {
   "cell_type": "code",
   "execution_count": 5,
   "metadata": {},
   "outputs": [],
   "source": [
    "identity_model = pkl.load(open(identity_model_file_path,'rb'))\n",
    "scaler = pkl.load(open(scaler,'rb'))"
   ]
  },
  {
   "cell_type": "code",
   "execution_count": 9,
   "metadata": {},
   "outputs": [
    {
     "name": "stdout",
     "output_type": "stream",
     "text": [
      "Running on local URL:  http://127.0.0.1:7863\n",
      "\n",
      "To create a public link, set `share=True` in `launch()`.\n"
     ]
    },
    {
     "data": {
      "text/html": [
       "<div><iframe src=\"http://127.0.0.1:7863/\" width=\"100%\" height=\"500\" allow=\"autoplay; camera; microphone; clipboard-read; clipboard-write;\" frameborder=\"0\" allowfullscreen></iframe></div>"
      ],
      "text/plain": [
       "<IPython.core.display.HTML object>"
      ]
     },
     "metadata": {},
     "output_type": "display_data"
    },
    {
     "data": {
      "text/plain": []
     },
     "execution_count": 9,
     "metadata": {},
     "output_type": "execute_result"
    }
   ],
   "source": [
    "def segment(image):\n",
    "    font = cv2.FONT_HERSHEY_SIMPLEX\n",
    "    thickness = 2\n",
    "    font_scale = 1\n",
    "    frame_copy = np.array([cv2.resize(image,(32,32)).flatten()])\n",
    "    frame_copy = scaler.transform(frame_copy)\n",
    "    prob = identity_model.predict_proba(frame_copy)[0][0]\n",
    "    identity = identity_model.predict(frame_copy)[0]\n",
    "    cv2.putText(image,identity,(600,100),font,font_scale, (0, 0, 255), thickness, cv2.LINE_AA)\n",
    "    cv2.putText(image,str(prob),(600,150),font,font_scale, (0, 0, 255), thickness, cv2.LINE_AA)\n",
    "    return image\n",
    "\n",
    "gr.Interface(fn=segment, inputs=\"image\", outputs=\"image\").launch()"
   ]
  }
 ],
 "metadata": {
  "kernelspec": {
   "display_name": "Python 3",
   "language": "python",
   "name": "python3"
  },
  "language_info": {
   "codemirror_mode": {
    "name": "ipython",
    "version": 3
   },
   "file_extension": ".py",
   "mimetype": "text/x-python",
   "name": "python",
   "nbconvert_exporter": "python",
   "pygments_lexer": "ipython3",
   "version": "3.8.3"
  },
  "orig_nbformat": 4
 },
 "nbformat": 4,
 "nbformat_minor": 2
}
