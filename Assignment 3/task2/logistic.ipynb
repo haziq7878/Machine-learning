{
 "cells": [
  {
   "cell_type": "code",
   "execution_count": 1,
   "metadata": {},
   "outputs": [],
   "source": [
    "from sklearn.linear_model import LogisticRegression\n",
    "from sklearn.model_selection import train_test_split\n",
    "from sklearn.metrics import accuracy_score, classification_report\n",
    "from sklearn.metrics import confusion_matrix, ConfusionMatrixDisplay\n",
    "import matplotlib.pyplot as plt\n",
    "import pandas as pd\n",
    "import numpy as np\n",
    "import pickle as pkl"
   ]
  },
  {
   "attachments": {},
   "cell_type": "markdown",
   "metadata": {},
   "source": [
    "<h1>Load Dataset and feature Matrix</h1>"
   ]
  },
  {
   "cell_type": "code",
   "execution_count": 2,
   "metadata": {},
   "outputs": [],
   "source": [
    "# images = pd.read_csv('../../Datasets/Assignment 3/Ages.csv')\n",
    "images = pd.read_csv('../../Assignment 1/task1/Data.csv')"
   ]
  },
  {
   "cell_type": "code",
   "execution_count": 3,
   "metadata": {},
   "outputs": [
    {
     "name": "stdout",
     "output_type": "stream",
     "text": [
      "(61, 3072)\n"
     ]
    }
   ],
   "source": [
    "# file_name = '../../Datasets/Assignment 3/Compressed_images/Compressed_data_age_1'\n",
    "file_name = '../../Assignment 1/task1/Compressed_data_1'\n",
    "with open(file_name, 'rb') as handle:\n",
    "    feature_matrix = pkl.load(handle)\n",
    "print(feature_matrix.shape)"
   ]
  },
  {
   "cell_type": "code",
   "execution_count": 4,
   "metadata": {},
   "outputs": [],
   "source": [
    "X_train,X_test,y_train,y_test = train_test_split(feature_matrix,images['Identity'],stratify=images['Identity'],test_size=0.2)"
   ]
  },
  {
   "cell_type": "code",
   "execution_count": 5,
   "metadata": {},
   "outputs": [
    {
     "data": {
      "text/plain": [
       "((48, 3072), (13, 3072))"
      ]
     },
     "execution_count": 5,
     "metadata": {},
     "output_type": "execute_result"
    }
   ],
   "source": [
    "X_train.shape,X_test.shape"
   ]
  },
  {
   "cell_type": "code",
   "execution_count": 6,
   "metadata": {},
   "outputs": [],
   "source": [
    "lg_auto = LogisticRegression(multi_class='multinomial',random_state=32)\n",
    "lg_ovr = LogisticRegression(multi_class='ovr',random_state=32)"
   ]
  },
  {
   "cell_type": "code",
   "execution_count": 7,
   "metadata": {},
   "outputs": [
    {
     "data": {
      "text/plain": [
       "LogisticRegression(multi_class='multinomial', random_state=32)"
      ]
     },
     "execution_count": 7,
     "metadata": {},
     "output_type": "execute_result"
    }
   ],
   "source": [
    "lg_auto.fit(X_train,y_train)"
   ]
  },
  {
   "cell_type": "code",
   "execution_count": 8,
   "metadata": {},
   "outputs": [
    {
     "data": {
      "text/plain": [
       "LogisticRegression(multi_class='ovr', random_state=32)"
      ]
     },
     "execution_count": 8,
     "metadata": {},
     "output_type": "execute_result"
    }
   ],
   "source": [
    "lg_ovr.fit(X_train,y_train)"
   ]
  },
  {
   "cell_type": "code",
   "execution_count": 9,
   "metadata": {},
   "outputs": [],
   "source": [
    "y_pred_auto = lg_auto.predict(X_test)\n",
    "y_pred_ovr = lg_ovr.predict(X_test)"
   ]
  },
  {
   "cell_type": "code",
   "execution_count": 10,
   "metadata": {},
   "outputs": [
    {
     "name": "stdout",
     "output_type": "stream",
     "text": [
      "Logistic regression Multinomial\n",
      "Accuracy: 1.0\n",
      "Classwise Classification Report: \n",
      "              precision    recall  f1-score   support\n",
      "\n",
      "       haziq       1.00      1.00      1.00         7\n",
      "    sulaiman       1.00      1.00      1.00         6\n",
      "\n",
      "    accuracy                           1.00        13\n",
      "   macro avg       1.00      1.00      1.00        13\n",
      "weighted avg       1.00      1.00      1.00        13\n",
      "\n",
      "\n",
      "Confusion Matrix: \n"
     ]
    },
    {
     "data": {
      "image/png": "[encoded data removed]",
      "text/plain": [
       "<Figure size 432x288 with 2 Axes>"
      ]
     },
     "metadata": {
      "needs_background": "light"
     },
     "output_type": "display_data"
    }
   ],
   "source": [
    "print(\"Logistic regression Multinomial\")\n",
    "print(f\"Accuracy: {accuracy_score(y_test, y_pred_auto)}\")\n",
    "print(f\"Classwise Classification Report: \\n{classification_report(y_test, y_pred_auto)}\")\n",
    "con_matrix = confusion_matrix(np.ravel(y_test), y_pred_auto)\n",
    "print(\"\\nConfusion Matrix: \")\n",
    "con_matrix = ConfusionMatrixDisplay(con_matrix)\n",
    "con_matrix.plot()\n",
    "plt.show()"
   ]
  },
  {
   "cell_type": "code",
   "execution_count": 11,
   "metadata": {},
   "outputs": [
    {
     "name": "stdout",
     "output_type": "stream",
     "text": [
      "Logistic regression ovr\n",
      "Accuracy: 1.0\n",
      "Classwise Classification Report: \n",
      "              precision    recall  f1-score   support\n",
      "\n",
      "       haziq       1.00      1.00      1.00         7\n",
      "    sulaiman       1.00      1.00      1.00         6\n",
      "\n",
      "    accuracy                           1.00        13\n",
      "   macro avg       1.00      1.00      1.00        13\n",
      "weighted avg       1.00      1.00      1.00        13\n",
      "\n",
      "\n",
      "Confusion Matrix: \n"
     ]
    },
    {
     "data": {
      "image/png": "[encoded data removed]",
      "text/plain": [
       "<Figure size 432x288 with 2 Axes>"
      ]
     },
     "metadata": {
      "needs_background": "light"
     },
     "output_type": "display_data"
    }
   ],
   "source": [
    "print(\"Logistic regression ovr\")\n",
    "print(f\"Accuracy: {accuracy_score(y_test, y_pred_ovr)}\")\n",
    "print(f\"Classwise Classification Report: \\n{classification_report(y_test, y_pred_ovr)}\")\n",
    "con_matrix = confusion_matrix(np.ravel(y_test), y_pred_ovr)\n",
    "print(\"\\nConfusion Matrix: \")\n",
    "con_matrix = ConfusionMatrixDisplay(con_matrix)\n",
    "con_matrix.plot()\n",
    "plt.show()"
   ]
  },
  {
   "cell_type": "code",
   "execution_count": null,
   "metadata": {},
   "outputs": [],
   "source": [
    "# model_file = 'SGF_Linear_Reg_Images_UTKFace.sav'\n",
    "model_file = 'LOG_Identity_Images_my_data.sav'\n",
    "pkl.dump(lg_ovr,open(model_file,'wb'))"
   ]
  }
 ],
 "metadata": {
  "kernelspec": {
   "display_name": "Python 3",
   "language": "python",
   "name": "python3"
  },
  "language_info": {
   "codemirror_mode": {
    "name": "ipython",
    "version": 3
   },
   "file_extension": ".py",
   "mimetype": "text/x-python",
   "name": "python",
   "nbconvert_exporter": "python",
   "pygments_lexer": "ipython3",
   "version": "3.8.3"
  },
  "orig_nbformat": 4
 },
 "nbformat": 4,
 "nbformat_minor": 2
}
